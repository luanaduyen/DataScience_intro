{
 "cells": [
  {
   "cell_type": "markdown",
   "id": "e2bf4489",
   "metadata": {},
   "source": [
    "# Python Data Science Handbook"
   ]
  },
  {
   "cell_type": "markdown",
   "id": "3d43e1fa",
   "metadata": {},
   "source": [
    "## 1. IPython: Beyond Normal Python"
   ]
  },
  {
   "cell_type": "markdown",
   "id": "3e6496f8",
   "metadata": {},
   "source": [
    "### Help and Documentation in Ipython"
   ]
  },
  {
   "cell_type": "code",
   "execution_count": 1,
   "id": "ae3788b4",
   "metadata": {},
   "outputs": [
    {
     "name": "stdout",
     "output_type": "stream",
     "text": [
      "Help on built-in function len in module builtins:\n",
      "\n",
      "len(obj, /)\n",
      "    Return the number of items in a container.\n",
      "\n"
     ]
    }
   ],
   "source": [
    "help(len)"
   ]
  },
  {
   "cell_type": "code",
   "execution_count": 2,
   "id": "edb54814",
   "metadata": {},
   "outputs": [],
   "source": [
    "len?"
   ]
  },
  {
   "cell_type": "code",
   "execution_count": 3,
   "id": "3d82c452",
   "metadata": {},
   "outputs": [],
   "source": [
    "L = [1, 2, 3]"
   ]
  },
  {
   "cell_type": "code",
   "execution_count": 4,
   "id": "58bfb5ff",
   "metadata": {},
   "outputs": [],
   "source": [
    "L.insert?"
   ]
  },
  {
   "cell_type": "code",
   "execution_count": 5,
   "id": "15566507",
   "metadata": {},
   "outputs": [],
   "source": [
    "L?"
   ]
  },
  {
   "cell_type": "code",
   "execution_count": 6,
   "id": "c4612a95",
   "metadata": {},
   "outputs": [],
   "source": [
    "def square(a):\n",
    "    \"\"\"Return the square of a.\"\"\"\n",
    "    return a ** 2"
   ]
  },
  {
   "cell_type": "code",
   "execution_count": 7,
   "id": "80ba73d4",
   "metadata": {},
   "outputs": [],
   "source": [
    "square?"
   ]
  },
  {
   "cell_type": "code",
   "execution_count": 8,
   "id": "27ef64eb",
   "metadata": {},
   "outputs": [],
   "source": [
    "square??"
   ]
  },
  {
   "cell_type": "code",
   "execution_count": 9,
   "id": "7289fec9",
   "metadata": {},
   "outputs": [],
   "source": [
    "len??"
   ]
  },
  {
   "cell_type": "code",
   "execution_count": 10,
   "id": "0af6da96",
   "metadata": {},
   "outputs": [
    {
     "ename": "SyntaxError",
     "evalue": "invalid syntax (Temp/ipykernel_1296/3745167853.py, line 1)",
     "output_type": "error",
     "traceback": [
      "\u001b[1;36m  File \u001b[1;32m\"C:\\Users\\lungu\\AppData\\Local\\Temp/ipykernel_1296/3745167853.py\"\u001b[1;36m, line \u001b[1;32m1\u001b[0m\n\u001b[1;33m    L.<TAB>\u001b[0m\n\u001b[1;37m      ^\u001b[0m\n\u001b[1;31mSyntaxError\u001b[0m\u001b[1;31m:\u001b[0m invalid syntax\n"
     ]
    }
   ],
   "source": [
    "L.<TAB>"
   ]
  },
  {
   "cell_type": "code",
   "execution_count": null,
   "id": "f4546422",
   "metadata": {},
   "outputs": [],
   "source": [
    "L._<TAB>"
   ]
  },
  {
   "cell_type": "code",
   "execution_count": null,
   "id": "bbf8395e",
   "metadata": {},
   "outputs": [],
   "source": [
    "from itertools import co<TAB>"
   ]
  },
  {
   "cell_type": "code",
   "execution_count": null,
   "id": "23ce70e6",
   "metadata": {},
   "outputs": [],
   "source": [
    "import <TAB>"
   ]
  },
  {
   "cell_type": "code",
   "execution_count": 11,
   "id": "d05e1af4",
   "metadata": {},
   "outputs": [],
   "source": [
    "*Warning?"
   ]
  },
  {
   "cell_type": "code",
   "execution_count": 13,
   "id": "19239792",
   "metadata": {},
   "outputs": [
    {
     "data": {
      "text/plain": [
       "<method 'rfind' of 'str' objects>"
      ]
     },
     "execution_count": 13,
     "metadata": {},
     "output_type": "execute_result"
    }
   ],
   "source": [
    "str.*find*?\n",
    "str.find\n",
    "str.rfind"
   ]
  }
 ],
 "metadata": {
  "kernelspec": {
   "display_name": "Python 3 (ipykernel)",
   "language": "python",
   "name": "python3"
  },
  "language_info": {
   "codemirror_mode": {
    "name": "ipython",
    "version": 3
   },
   "file_extension": ".py",
   "mimetype": "text/x-python",
   "name": "python",
   "nbconvert_exporter": "python",
   "pygments_lexer": "ipython3",
   "version": "3.10.0"
  }
 },
 "nbformat": 4,
 "nbformat_minor": 5
}
