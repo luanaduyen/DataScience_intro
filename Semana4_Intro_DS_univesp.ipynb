{
  "nbformat": 4,
  "nbformat_minor": 0,
  "metadata": {
    "colab": {
      "name": "Semana 4 -  Exercício de apoio - Introdução a Ciencia de Dados - COM350.ipynb",
      "provenance": []
    },
    "kernelspec": {
      "name": "python3",
      "display_name": "Python 3"
    },
    "language_info": {
      "name": "python"
    },
    "widgets": {
      "application/vnd.jupyter.widget-state+json": {
        "6d7526a00c604d14aea115673a99c801": {
          "model_module": "@jupyter-widgets/controls",
          "model_name": "HBoxModel",
          "model_module_version": "1.5.0",
          "state": {
            "_view_name": "HBoxView",
            "_dom_classes": [],
            "_model_name": "HBoxModel",
            "_view_module": "@jupyter-widgets/controls",
            "_model_module_version": "1.5.0",
            "_view_count": null,
            "_view_module_version": "1.5.0",
            "box_style": "",
            "layout": "IPY_MODEL_639d5fb9386147aa92a1102027cdeb67",
            "_model_module": "@jupyter-widgets/controls",
            "children": [
              "IPY_MODEL_62c5e2c8e46e46ac8c9eacaf0a1cf340",
              "IPY_MODEL_1bb9fe804bf8452a866ad95f4fc928f7",
              "IPY_MODEL_d45f442265514186a81732bd97f54e36"
            ]
          }
        },
        "639d5fb9386147aa92a1102027cdeb67": {
          "model_module": "@jupyter-widgets/base",
          "model_name": "LayoutModel",
          "model_module_version": "1.2.0",
          "state": {
            "_view_name": "LayoutView",
            "grid_template_rows": null,
            "right": null,
            "justify_content": null,
            "_view_module": "@jupyter-widgets/base",
            "overflow": null,
            "_model_module_version": "1.2.0",
            "_view_count": null,
            "flex_flow": "row wrap",
            "width": "100%",
            "min_width": null,
            "border": null,
            "align_items": null,
            "bottom": null,
            "_model_module": "@jupyter-widgets/base",
            "top": null,
            "grid_column": null,
            "overflow_y": null,
            "overflow_x": null,
            "grid_auto_flow": null,
            "grid_area": null,
            "grid_template_columns": null,
            "flex": null,
            "_model_name": "LayoutModel",
            "justify_items": null,
            "grid_row": null,
            "max_height": null,
            "align_content": null,
            "visibility": null,
            "align_self": null,
            "height": null,
            "min_height": null,
            "padding": null,
            "grid_auto_rows": null,
            "grid_gap": null,
            "max_width": null,
            "order": null,
            "_view_module_version": "1.2.0",
            "grid_template_areas": null,
            "object_position": null,
            "object_fit": null,
            "grid_auto_columns": null,
            "margin": null,
            "display": "inline-flex",
            "left": null
          }
        },
        "62c5e2c8e46e46ac8c9eacaf0a1cf340": {
          "model_module": "@jupyter-widgets/controls",
          "model_name": "HTMLModel",
          "model_module_version": "1.5.0",
          "state": {
            "_view_name": "HTMLView",
            "style": "IPY_MODEL_294f490b79b84f6f94b51919c07d07ea",
            "_dom_classes": [],
            "description": "",
            "_model_name": "HTMLModel",
            "placeholder": "​",
            "_view_module": "@jupyter-widgets/controls",
            "_model_module_version": "1.5.0",
            "value": "Done! Use &#x27;show&#x27; commands to display/save.   ",
            "_view_count": null,
            "_view_module_version": "1.5.0",
            "description_tooltip": null,
            "_model_module": "@jupyter-widgets/controls",
            "layout": "IPY_MODEL_408ca41d51fd4508a6765b2b3d211abd"
          }
        },
        "1bb9fe804bf8452a866ad95f4fc928f7": {
          "model_module": "@jupyter-widgets/controls",
          "model_name": "FloatProgressModel",
          "model_module_version": "1.5.0",
          "state": {
            "_view_name": "ProgressView",
            "style": "IPY_MODEL_d4aa852ca04440869b447d1eac6e34c8",
            "_dom_classes": [],
            "description": "",
            "_model_name": "FloatProgressModel",
            "bar_style": "success",
            "max": 1,
            "_view_module": "@jupyter-widgets/controls",
            "_model_module_version": "1.5.0",
            "value": 1,
            "_view_count": null,
            "_view_module_version": "1.5.0",
            "orientation": "horizontal",
            "min": 0,
            "description_tooltip": null,
            "_model_module": "@jupyter-widgets/controls",
            "layout": "IPY_MODEL_3458ea2531a94ac48fa0cb821918812b"
          }
        },
        "d45f442265514186a81732bd97f54e36": {
          "model_module": "@jupyter-widgets/controls",
          "model_name": "HTMLModel",
          "model_module_version": "1.5.0",
          "state": {
            "_view_name": "HTMLView",
            "style": "IPY_MODEL_4f5ff371b9f64155b27153074fb6dae0",
            "_dom_classes": [],
            "description": "",
            "_model_name": "HTMLModel",
            "placeholder": "​",
            "_view_module": "@jupyter-widgets/controls",
            "_model_module_version": "1.5.0",
            "value": " [100%]   00:00 -&gt; (00:00 left)",
            "_view_count": null,
            "_view_module_version": "1.5.0",
            "description_tooltip": null,
            "_model_module": "@jupyter-widgets/controls",
            "layout": "IPY_MODEL_b863de52509f4cef9676b865fbac3c40"
          }
        },
        "294f490b79b84f6f94b51919c07d07ea": {
          "model_module": "@jupyter-widgets/controls",
          "model_name": "DescriptionStyleModel",
          "model_module_version": "1.5.0",
          "state": {
            "_view_name": "StyleView",
            "_model_name": "DescriptionStyleModel",
            "description_width": "",
            "_view_module": "@jupyter-widgets/base",
            "_model_module_version": "1.5.0",
            "_view_count": null,
            "_view_module_version": "1.2.0",
            "_model_module": "@jupyter-widgets/controls"
          }
        },
        "408ca41d51fd4508a6765b2b3d211abd": {
          "model_module": "@jupyter-widgets/base",
          "model_name": "LayoutModel",
          "model_module_version": "1.2.0",
          "state": {
            "_view_name": "LayoutView",
            "grid_template_rows": null,
            "right": null,
            "justify_content": null,
            "_view_module": "@jupyter-widgets/base",
            "overflow": null,
            "_model_module_version": "1.2.0",
            "_view_count": null,
            "flex_flow": null,
            "width": null,
            "min_width": null,
            "border": null,
            "align_items": null,
            "bottom": null,
            "_model_module": "@jupyter-widgets/base",
            "top": null,
            "grid_column": null,
            "overflow_y": null,
            "overflow_x": null,
            "grid_auto_flow": null,
            "grid_area": null,
            "grid_template_columns": null,
            "flex": null,
            "_model_name": "LayoutModel",
            "justify_items": null,
            "grid_row": null,
            "max_height": null,
            "align_content": null,
            "visibility": null,
            "align_self": null,
            "height": null,
            "min_height": null,
            "padding": null,
            "grid_auto_rows": null,
            "grid_gap": null,
            "max_width": null,
            "order": null,
            "_view_module_version": "1.2.0",
            "grid_template_areas": null,
            "object_position": null,
            "object_fit": null,
            "grid_auto_columns": null,
            "margin": null,
            "display": null,
            "left": null
          }
        },
        "d4aa852ca04440869b447d1eac6e34c8": {
          "model_module": "@jupyter-widgets/controls",
          "model_name": "ProgressStyleModel",
          "model_module_version": "1.5.0",
          "state": {
            "_view_name": "StyleView",
            "_model_name": "ProgressStyleModel",
            "description_width": "",
            "_view_module": "@jupyter-widgets/base",
            "_model_module_version": "1.5.0",
            "_view_count": null,
            "_view_module_version": "1.2.0",
            "bar_color": null,
            "_model_module": "@jupyter-widgets/controls"
          }
        },
        "3458ea2531a94ac48fa0cb821918812b": {
          "model_module": "@jupyter-widgets/base",
          "model_name": "LayoutModel",
          "model_module_version": "1.2.0",
          "state": {
            "_view_name": "LayoutView",
            "grid_template_rows": null,
            "right": null,
            "justify_content": null,
            "_view_module": "@jupyter-widgets/base",
            "overflow": null,
            "_model_module_version": "1.2.0",
            "_view_count": null,
            "flex_flow": null,
            "width": null,
            "min_width": null,
            "border": null,
            "align_items": null,
            "bottom": null,
            "_model_module": "@jupyter-widgets/base",
            "top": null,
            "grid_column": null,
            "overflow_y": null,
            "overflow_x": null,
            "grid_auto_flow": null,
            "grid_area": null,
            "grid_template_columns": null,
            "flex": "2",
            "_model_name": "LayoutModel",
            "justify_items": null,
            "grid_row": null,
            "max_height": null,
            "align_content": null,
            "visibility": null,
            "align_self": null,
            "height": null,
            "min_height": null,
            "padding": null,
            "grid_auto_rows": null,
            "grid_gap": null,
            "max_width": null,
            "order": null,
            "_view_module_version": "1.2.0",
            "grid_template_areas": null,
            "object_position": null,
            "object_fit": null,
            "grid_auto_columns": null,
            "margin": null,
            "display": null,
            "left": null
          }
        },
        "4f5ff371b9f64155b27153074fb6dae0": {
          "model_module": "@jupyter-widgets/controls",
          "model_name": "DescriptionStyleModel",
          "model_module_version": "1.5.0",
          "state": {
            "_view_name": "StyleView",
            "_model_name": "DescriptionStyleModel",
            "description_width": "",
            "_view_module": "@jupyter-widgets/base",
            "_model_module_version": "1.5.0",
            "_view_count": null,
            "_view_module_version": "1.2.0",
            "_model_module": "@jupyter-widgets/controls"
          }
        },
        "b863de52509f4cef9676b865fbac3c40": {
          "model_module": "@jupyter-widgets/base",
          "model_name": "LayoutModel",
          "model_module_version": "1.2.0",
          "state": {
            "_view_name": "LayoutView",
            "grid_template_rows": null,
            "right": null,
            "justify_content": null,
            "_view_module": "@jupyter-widgets/base",
            "overflow": null,
            "_model_module_version": "1.2.0",
            "_view_count": null,
            "flex_flow": null,
            "width": null,
            "min_width": null,
            "border": null,
            "align_items": null,
            "bottom": null,
            "_model_module": "@jupyter-widgets/base",
            "top": null,
            "grid_column": null,
            "overflow_y": null,
            "overflow_x": null,
            "grid_auto_flow": null,
            "grid_area": null,
            "grid_template_columns": null,
            "flex": null,
            "_model_name": "LayoutModel",
            "justify_items": null,
            "grid_row": null,
            "max_height": null,
            "align_content": null,
            "visibility": null,
            "align_self": null,
            "height": null,
            "min_height": null,
            "padding": null,
            "grid_auto_rows": null,
            "grid_gap": null,
            "max_width": null,
            "order": null,
            "_view_module_version": "1.2.0",
            "grid_template_areas": null,
            "object_position": null,
            "object_fit": null,
            "grid_auto_columns": null,
            "margin": null,
            "display": null,
            "left": null
          }
        }
      }
    }
  },
  "cells": [
    {
      "cell_type": "markdown",
      "metadata": {
        "id": "1o1Qy23m4Nxn"
      },
      "source": [
        "##Disciplina - Introdução a Ciência de Dados - Univesp\n",
        "##Exercícios de Apoio da Semana 4"
      ]
    },
    {
      "cell_type": "markdown",
      "metadata": {
        "id": "2XkOALb55Alb"
      },
      "source": [
        "###1 – Importe as bibliotecas PANDAS, NUMPY, SEABORN, MATPLOTLIB e SWEETVIZ"
      ]
    },
    {
      "cell_type": "code",
      "metadata": {
        "id": "DHr2MeIy4wZP"
      },
      "source": [
        "import pandas as pd\n",
        "import numpy as np\n",
        "import seaborn as sns\n",
        "import matplotlib.pyplot as plt"
      ],
      "execution_count": 11,
      "outputs": []
    },
    {
      "cell_type": "code",
      "metadata": {
        "colab": {
          "base_uri": "https://localhost:8080/"
        },
        "id": "Ty6KPKt28M9w",
        "outputId": "70bd0684-581a-41a4-972e-6c599e69dfd5"
      },
      "source": [
        "pip install sweetviz"
      ],
      "execution_count": 12,
      "outputs": [
        {
          "output_type": "stream",
          "name": "stdout",
          "text": [
            "Requirement already satisfied: sweetviz in /usr/local/lib/python3.7/dist-packages (2.1.3)\n",
            "Requirement already satisfied: importlib-resources>=1.2.0 in /usr/local/lib/python3.7/dist-packages (from sweetviz) (5.4.0)\n",
            "Requirement already satisfied: scipy>=1.3.2 in /usr/local/lib/python3.7/dist-packages (from sweetviz) (1.4.1)\n",
            "Requirement already satisfied: numpy>=1.16.0 in /usr/local/lib/python3.7/dist-packages (from sweetviz) (1.19.5)\n",
            "Requirement already satisfied: jinja2>=2.11.1 in /usr/local/lib/python3.7/dist-packages (from sweetviz) (2.11.3)\n",
            "Requirement already satisfied: matplotlib>=3.1.3 in /usr/local/lib/python3.7/dist-packages (from sweetviz) (3.2.2)\n",
            "Requirement already satisfied: tqdm>=4.43.0 in /usr/local/lib/python3.7/dist-packages (from sweetviz) (4.62.3)\n",
            "Requirement already satisfied: pandas!=1.0.0,!=1.0.1,!=1.0.2,>=0.25.3 in /usr/local/lib/python3.7/dist-packages (from sweetviz) (1.1.5)\n",
            "Requirement already satisfied: zipp>=3.1.0 in /usr/local/lib/python3.7/dist-packages (from importlib-resources>=1.2.0->sweetviz) (3.6.0)\n",
            "Requirement already satisfied: MarkupSafe>=0.23 in /usr/local/lib/python3.7/dist-packages (from jinja2>=2.11.1->sweetviz) (2.0.1)\n",
            "Requirement already satisfied: pyparsing!=2.0.4,!=2.1.2,!=2.1.6,>=2.0.1 in /usr/local/lib/python3.7/dist-packages (from matplotlib>=3.1.3->sweetviz) (3.0.6)\n",
            "Requirement already satisfied: cycler>=0.10 in /usr/local/lib/python3.7/dist-packages (from matplotlib>=3.1.3->sweetviz) (0.11.0)\n",
            "Requirement already satisfied: python-dateutil>=2.1 in /usr/local/lib/python3.7/dist-packages (from matplotlib>=3.1.3->sweetviz) (2.8.2)\n",
            "Requirement already satisfied: kiwisolver>=1.0.1 in /usr/local/lib/python3.7/dist-packages (from matplotlib>=3.1.3->sweetviz) (1.3.2)\n",
            "Requirement already satisfied: pytz>=2017.2 in /usr/local/lib/python3.7/dist-packages (from pandas!=1.0.0,!=1.0.1,!=1.0.2,>=0.25.3->sweetviz) (2018.9)\n",
            "Requirement already satisfied: six>=1.5 in /usr/local/lib/python3.7/dist-packages (from python-dateutil>=2.1->matplotlib>=3.1.3->sweetviz) (1.15.0)\n"
          ]
        }
      ]
    },
    {
      "cell_type": "code",
      "metadata": {
        "id": "fa-ybpIAFcwf"
      },
      "source": [
        "import sweetviz"
      ],
      "execution_count": null,
      "outputs": []
    },
    {
      "cell_type": "markdown",
      "metadata": {
        "id": "ljLwKbTA6NO6"
      },
      "source": [
        "###2 – Importe os dados de um arquivo CSV com informações de filmes da Marvel, que está disponível em: https://www.kaggle.com/rachit239/mcu-complete-dataset"
      ]
    },
    {
      "cell_type": "code",
      "metadata": {
        "id": "GZQ6_PXvFXpN"
      },
      "source": [
        "dados=pd.read_csv(\"/content/mcu dataset.csv\")"
      ],
      "execution_count": null,
      "outputs": []
    },
    {
      "cell_type": "code",
      "metadata": {
        "colab": {
          "base_uri": "https://localhost:8080/",
          "height": 643
        },
        "id": "_y4ZtRemK9Uv",
        "outputId": "c5eb5da4-019f-461a-c57e-1457bae78c31"
      },
      "source": [
        "dados.head(5)"
      ],
      "execution_count": null,
      "outputs": [
        {
          "output_type": "execute_result",
          "data": {
            "text/html": [
              "<div>\n",
              "<style scoped>\n",
              "    .dataframe tbody tr th:only-of-type {\n",
              "        vertical-align: middle;\n",
              "    }\n",
              "\n",
              "    .dataframe tbody tr th {\n",
              "        vertical-align: top;\n",
              "    }\n",
              "\n",
              "    .dataframe thead th {\n",
              "        text-align: right;\n",
              "    }\n",
              "</style>\n",
              "<table border=\"1\" class=\"dataframe\">\n",
              "  <thead>\n",
              "    <tr style=\"text-align: right;\">\n",
              "      <th></th>\n",
              "      <th>Name</th>\n",
              "      <th>US release Date</th>\n",
              "      <th>Director</th>\n",
              "      <th>Producer</th>\n",
              "      <th>Duration</th>\n",
              "      <th>Genre</th>\n",
              "      <th>IMDB rating</th>\n",
              "      <th>metascore</th>\n",
              "      <th>Cast</th>\n",
              "      <th>Budget</th>\n",
              "      <th>Domestic Gross</th>\n",
              "      <th>Total Gross</th>\n",
              "      <th>Opening Gross</th>\n",
              "      <th>Oscar Nomination</th>\n",
              "      <th>Oscar won</th>\n",
              "      <th>Phase</th>\n",
              "    </tr>\n",
              "  </thead>\n",
              "  <tbody>\n",
              "    <tr>\n",
              "      <th>0</th>\n",
              "      <td>Iron Man</td>\n",
              "      <td>May 2, 2008</td>\n",
              "      <td>Jon Favreau</td>\n",
              "      <td>Avi Arad and Kevin Feige</td>\n",
              "      <td>2h 6min</td>\n",
              "      <td>Action , Adventure, Sci-Fi</td>\n",
              "      <td>7.9</td>\n",
              "      <td>79</td>\n",
              "      <td>Robert Downey Jr. , Gweneth Paltrow , Terrence...</td>\n",
              "      <td>$140,000,000</td>\n",
              "      <td>$318,604,126</td>\n",
              "      <td>$585,366,247</td>\n",
              "      <td>$98,618,668</td>\n",
              "      <td>2</td>\n",
              "      <td>0</td>\n",
              "      <td>1</td>\n",
              "    </tr>\n",
              "    <tr>\n",
              "      <th>1</th>\n",
              "      <td>The incredible Hulk</td>\n",
              "      <td>June 13, 2008</td>\n",
              "      <td>Louis Leterrier</td>\n",
              "      <td>Avi Arad ,Gale Ann Hurd and Kevin Feige</td>\n",
              "      <td>1h 52min</td>\n",
              "      <td>Action , Adventure, Sci-Fi</td>\n",
              "      <td>6.6</td>\n",
              "      <td>61</td>\n",
              "      <td>Edward Norton , Liv Tyler , Tim Roth</td>\n",
              "      <td>$150,000,000</td>\n",
              "      <td>$134,806,913</td>\n",
              "      <td>$264,770,996</td>\n",
              "      <td>$55,414,050</td>\n",
              "      <td>0</td>\n",
              "      <td>0</td>\n",
              "      <td>1</td>\n",
              "    </tr>\n",
              "    <tr>\n",
              "      <th>2</th>\n",
              "      <td>Iron Man 2</td>\n",
              "      <td>May 7, 2010</td>\n",
              "      <td>Jon Favreau</td>\n",
              "      <td>Kevin Feige</td>\n",
              "      <td>2h 4min</td>\n",
              "      <td>Action , Adventure, Sci-Fi</td>\n",
              "      <td>7.0</td>\n",
              "      <td>57</td>\n",
              "      <td>Robert Downey Jr. , Gweneth Paltrow , Mickey R...</td>\n",
              "      <td>$200,000,000</td>\n",
              "      <td>$312,433,331</td>\n",
              "      <td>$623,933,331</td>\n",
              "      <td>$128,122,480</td>\n",
              "      <td>1</td>\n",
              "      <td>0</td>\n",
              "      <td>1</td>\n",
              "    </tr>\n",
              "    <tr>\n",
              "      <th>3</th>\n",
              "      <td>Thor</td>\n",
              "      <td>May 6, 2011</td>\n",
              "      <td>Kenneth Branagh</td>\n",
              "      <td>Kevin Feige</td>\n",
              "      <td>1h 55min</td>\n",
              "      <td>Action , Adventure, Fantasy</td>\n",
              "      <td>7.0</td>\n",
              "      <td>57</td>\n",
              "      <td>Chris Hemsworth , Anthony Hopkins , Natalie Po...</td>\n",
              "      <td>$150,000,000</td>\n",
              "      <td>$181,030,624</td>\n",
              "      <td>$449,326,618</td>\n",
              "      <td>$65,723,338</td>\n",
              "      <td>0</td>\n",
              "      <td>0</td>\n",
              "      <td>1</td>\n",
              "    </tr>\n",
              "    <tr>\n",
              "      <th>4</th>\n",
              "      <td>Captain America: The first Avenger</td>\n",
              "      <td>July 22, 2011</td>\n",
              "      <td>Joe Jhonston</td>\n",
              "      <td>Kevin Feige</td>\n",
              "      <td>2h 4min</td>\n",
              "      <td>Action , Adventure, Sci-Fi</td>\n",
              "      <td>6.9</td>\n",
              "      <td>66</td>\n",
              "      <td>Chris Evans ,  Hugo Weaving , Samuel L. Jackson</td>\n",
              "      <td>$140,000,000</td>\n",
              "      <td>$176,654,505</td>\n",
              "      <td>$370,569,774</td>\n",
              "      <td>$65,058,524</td>\n",
              "      <td>0</td>\n",
              "      <td>0</td>\n",
              "      <td>1</td>\n",
              "    </tr>\n",
              "  </tbody>\n",
              "</table>\n",
              "</div>"
            ],
            "text/plain": [
              "                                 Name US release Date  ... Oscar won Phase\n",
              "0                            Iron Man     May 2, 2008  ...         0     1\n",
              "1                 The incredible Hulk   June 13, 2008  ...         0     1\n",
              "2                          Iron Man 2     May 7, 2010  ...         0     1\n",
              "3                                Thor     May 6, 2011  ...         0     1\n",
              "4  Captain America: The first Avenger   July 22, 2011  ...         0     1\n",
              "\n",
              "[5 rows x 16 columns]"
            ]
          },
          "metadata": {},
          "execution_count": 5
        }
      ]
    },
    {
      "cell_type": "markdown",
      "metadata": {
        "id": "lYFZ68Ky8CvF"
      },
      "source": [
        "###3 – Usando a biblioteca Sweetviz, verifique qual foi o valor de orçamento (budget) que aconteceu mais vezes nos filmes da Marvel, e indique qual a porcentagem de vezes que esse valor foi determinado para os filmes."
      ]
    },
    {
      "cell_type": "code",
      "metadata": {
        "colab": {
          "base_uri": "https://localhost:8080/",
          "height": 87,
          "referenced_widgets": [
            "6d7526a00c604d14aea115673a99c801",
            "639d5fb9386147aa92a1102027cdeb67",
            "62c5e2c8e46e46ac8c9eacaf0a1cf340",
            "1bb9fe804bf8452a866ad95f4fc928f7",
            "d45f442265514186a81732bd97f54e36",
            "294f490b79b84f6f94b51919c07d07ea",
            "408ca41d51fd4508a6765b2b3d211abd",
            "d4aa852ca04440869b447d1eac6e34c8",
            "3458ea2531a94ac48fa0cb821918812b",
            "4f5ff371b9f64155b27153074fb6dae0",
            "b863de52509f4cef9676b865fbac3c40"
          ]
        },
        "id": "9ONvvlP7LULw",
        "outputId": "cea24fcc-18a5-44a9-f311-7130b8ccd790"
      },
      "source": [
        "infos=sweetviz.analyze(dados)\n",
        "infos.show_html()"
      ],
      "execution_count": null,
      "outputs": [
        {
          "output_type": "display_data",
          "data": {
            "application/vnd.jupyter.widget-view+json": {
              "model_id": "6d7526a00c604d14aea115673a99c801",
              "version_minor": 0,
              "version_major": 2
            },
            "text/plain": [
              "                                             |          | [  0%]   00:00 -> (? left)"
            ]
          },
          "metadata": {}
        },
        {
          "output_type": "stream",
          "name": "stdout",
          "text": [
            "Report SWEETVIZ_REPORT.html was generated! NOTEBOOK/COLAB USERS: the web browser MAY not pop up, regardless, the report IS saved in your notebook/colab files.\n"
          ]
        }
      ]
    },
    {
      "cell_type": "markdown",
      "metadata": {
        "id": "Z2qK2D2WNUgj"
      },
      "source": [
        "O orçamento que aconteceu mais vezes foi de $200 milhões e a porcentagem de vezes é de 17%."
      ]
    },
    {
      "cell_type": "markdown",
      "metadata": {
        "id": "mnXDCNUD8Ehv"
      },
      "source": [
        "###4 – Usando uma correlação de Pearson, verifique no database da Marvel, quais são as variáveis que tem maior correlação positiva."
      ]
    },
    {
      "cell_type": "code",
      "metadata": {
        "id": "jyll4iVFBqje"
      },
      "source": [
        "mask = np.triu(np.ones_like(dados.corr(), dtype=np.bool))"
      ],
      "execution_count": null,
      "outputs": []
    },
    {
      "cell_type": "code",
      "metadata": {
        "colab": {
          "base_uri": "https://localhost:8080/",
          "height": 801
        },
        "id": "RVPDTvFuB0dI",
        "outputId": "8b9e025a-58fe-4b70-a857-f5798b19bf3a"
      },
      "source": [
        "plt.figure(figsize=(10,10))\n",
        "sns.heatmap(dados.corr(), mask=mask, square = True, annot=True, vmin=-1, vmax=1)\n",
        "plt.show()"
      ],
      "execution_count": null,
      "outputs": [
        {
          "output_type": "display_data",
          "data": {
            "image/png": "[encoded data removed]",
            "text/plain": [
              "<Figure size 1000x1000 with 2 Axes>"
            ]
          },
          "metadata": {}
        }
      ]
    },
    {
      "cell_type": "markdown",
      "metadata": {
        "id": "FX0QiDKz-Syn"
      },
      "source": [
        "###5 – Entre no Portal Brasileiro de Dados Abertos e baixe o arquivo CSV da Relação de Empreendimentos de Geração (https://dados.gov.br/dataset/relacao-de-empreendimentos-de-geracao). Informe qual é a licença atribuída a esse dado."
      ]
    },
    {
      "cell_type": "markdown",
      "metadata": {
        "id": "mHwEvnOqHMRS"
      },
      "source": [
        "A licença atribuída a esse dado é a <a href=\"https://opendefinition.org/od/2.1/en/\">Open Data.</a>"
      ]
    },
    {
      "cell_type": "markdown",
      "metadata": {
        "id": "Ic82zqB0-9QY"
      },
      "source": [
        "###6 – Importe somente as primeiras 500 linhas desse arquivo CSV que foi baixado. Observe que como esse arquivo é de origem brasileira, precisaremos utilizar o parâmetro encoding='iso-8859-1' na função read_csv do pandas."
      ]
    },
    {
      "cell_type": "code",
      "metadata": {
        "id": "Gu-GxwKhMxPZ"
      },
      "source": [
        "dados_reg=pd.read_csv('/content/EmpreendimentoOperacao.csv',sep=',',nrows=500, encoding='iso-8859-1')"
      ],
      "execution_count": 13,
      "outputs": []
    },
    {
      "cell_type": "code",
      "metadata": {
        "colab": {
          "base_uri": "https://localhost:8080/",
          "height": 869
        },
        "id": "HsKvfxucVDkC",
        "outputId": "21e445ec-5439-4058-a830-bbce0cebd70d"
      },
      "source": [
        "dados_reg.head(10)"
      ],
      "execution_count": null,
      "outputs": [
        {
          "output_type": "execute_result",
          "data": {
            "text/html": [
              "<div>\n",
              "<style scoped>\n",
              "    .dataframe tbody tr th:only-of-type {\n",
              "        vertical-align: middle;\n",
              "    }\n",
              "\n",
              "    .dataframe tbody tr th {\n",
              "        vertical-align: top;\n",
              "    }\n",
              "\n",
              "    .dataframe thead th {\n",
              "        text-align: right;\n",
              "    }\n",
              "</style>\n",
              "<table border=\"1\" class=\"dataframe\">\n",
              "  <thead>\n",
              "    <tr style=\"text-align: right;\">\n",
              "      <th></th>\n",
              "      <th>codCEG</th>\n",
              "      <th>codNucleoCEG</th>\n",
              "      <th>nomEmpreendimento</th>\n",
              "      <th>datOperacao</th>\n",
              "      <th>sigTipoGeracao</th>\n",
              "      <th>mdaPotenciaOutorgadakW</th>\n",
              "      <th>mdaPotenciaFiscalizadakW</th>\n",
              "      <th>sigDestinoEnergia</th>\n",
              "      <th>dscOrigemCombustivel</th>\n",
              "      <th>nomFonteNivel1</th>\n",
              "      <th>nomFonteNivel2</th>\n",
              "      <th>dscParticipacaoProprietario</th>\n",
              "      <th>dscMunicipio</th>\n",
              "      <th>mesReferencia</th>\n",
              "      <th>anoReferencia</th>\n",
              "      <th>dthProcessamento</th>\n",
              "    </tr>\n",
              "  </thead>\n",
              "  <tbody>\n",
              "    <tr>\n",
              "      <th>0</th>\n",
              "      <td>UHE.PH.RS.000012-4.01</td>\n",
              "      <td>12</td>\n",
              "      <td>14 de Julho</td>\n",
              "      <td>25/12/2008 00:00:00</td>\n",
              "      <td>UHE</td>\n",
              "      <td>100000.0</td>\n",
              "      <td>47.5</td>\n",
              "      <td>PIE</td>\n",
              "      <td>Hídrica</td>\n",
              "      <td>Potencial hidráulico</td>\n",
              "      <td>Potencial hidráulico</td>\n",
              "      <td>100.00% para COMPANHIA ENERGÉTICA RIO DAS ANTAS</td>\n",
              "      <td>Bento Gonçalves - RS - CodIbge: 4302105 / Cot...</td>\n",
              "      <td>12</td>\n",
              "      <td>2021</td>\n",
              "      <td>05/12/2021 00:00:00</td>\n",
              "    </tr>\n",
              "    <tr>\n",
              "      <th>1</th>\n",
              "      <td>UTE.PE.SC.029920-0.01</td>\n",
              "      <td>29920</td>\n",
              "      <td>29 de Outubro</td>\n",
              "      <td>07/10/2008 00:00:00</td>\n",
              "      <td>UTE</td>\n",
              "      <td>62.0</td>\n",
              "      <td>0.0</td>\n",
              "      <td>REG</td>\n",
              "      <td>Fóssil</td>\n",
              "      <td>Petróleo</td>\n",
              "      <td>Óleo Diesel</td>\n",
              "      <td>100.00% para Condomínio Residencial 29 de Out...</td>\n",
              "      <td>Jaraguá do Sul - SC - CodIbge: 4208906</td>\n",
              "      <td>12</td>\n",
              "      <td>2021</td>\n",
              "      <td>05/12/2021 00:00:00</td>\n",
              "    </tr>\n",
              "    <tr>\n",
              "      <th>2</th>\n",
              "      <td>UTE.PE.MG.032686-0.01</td>\n",
              "      <td>32686</td>\n",
              "      <td>300KVA SCANIA</td>\n",
              "      <td>01/06/2013 00:00:00</td>\n",
              "      <td>UTE</td>\n",
              "      <td>240.0</td>\n",
              "      <td>0.0</td>\n",
              "      <td>REG</td>\n",
              "      <td>Fóssil</td>\n",
              "      <td>Petróleo</td>\n",
              "      <td>Óleo Diesel</td>\n",
              "      <td>100.00% para Mineração Curimbaba Ltda.</td>\n",
              "      <td>Poços de Caldas - MG - CodIbge: 3151800</td>\n",
              "      <td>12</td>\n",
              "      <td>2021</td>\n",
              "      <td>05/12/2021 00:00:00</td>\n",
              "    </tr>\n",
              "    <tr>\n",
              "      <th>3</th>\n",
              "      <td>UTE.PE.SP.028642-7.01</td>\n",
              "      <td>28642</td>\n",
              "      <td>3M Itapetininga</td>\n",
              "      <td>12/06/2002 00:00:00</td>\n",
              "      <td>UTE</td>\n",
              "      <td>3840.0</td>\n",
              "      <td>0.0</td>\n",
              "      <td>REG</td>\n",
              "      <td>Fóssil</td>\n",
              "      <td>Petróleo</td>\n",
              "      <td>Óleo Diesel</td>\n",
              "      <td>100.00% para 3M do Brasil Ltda</td>\n",
              "      <td>Itapetininga - SP - CodIbge: 3522307</td>\n",
              "      <td>12</td>\n",
              "      <td>2021</td>\n",
              "      <td>05/12/2021 00:00:00</td>\n",
              "    </tr>\n",
              "    <tr>\n",
              "      <th>4</th>\n",
              "      <td>UTE.PE.SP.028919-1.01</td>\n",
              "      <td>28919</td>\n",
              "      <td>3M Sumaré</td>\n",
              "      <td>01/10/2001 00:00:00</td>\n",
              "      <td>UTE</td>\n",
              "      <td>6400.0</td>\n",
              "      <td>0.0</td>\n",
              "      <td>APE</td>\n",
              "      <td>Fóssil</td>\n",
              "      <td>Petróleo</td>\n",
              "      <td>Óleo Diesel</td>\n",
              "      <td>100.00% para 3M do Brasil Ltda</td>\n",
              "      <td>Sumaré - SP - CodIbge: 3552403</td>\n",
              "      <td>12</td>\n",
              "      <td>2021</td>\n",
              "      <td>05/12/2021 00:00:00</td>\n",
              "    </tr>\n",
              "    <tr>\n",
              "      <th>5</th>\n",
              "      <td>UTE.PE.AC.032707-7.01</td>\n",
              "      <td>32707</td>\n",
              "      <td>A.C.D.A. IMPORTAÇÃO E EXPORTAÇÃO - AMAPÁ</td>\n",
              "      <td>15/01/2013 00:00:00</td>\n",
              "      <td>UTE</td>\n",
              "      <td>288.0</td>\n",
              "      <td>0.0</td>\n",
              "      <td>REG</td>\n",
              "      <td>Fóssil</td>\n",
              "      <td>Petróleo</td>\n",
              "      <td>Óleo Diesel</td>\n",
              "      <td>100.00% para A.C.D.A. Importação e exportação...</td>\n",
              "      <td>Rio Branco - AC - CodIbge: 1200401</td>\n",
              "      <td>12</td>\n",
              "      <td>2021</td>\n",
              "      <td>05/12/2021 00:00:00</td>\n",
              "    </tr>\n",
              "    <tr>\n",
              "      <th>6</th>\n",
              "      <td>UTE.PE.AC.032725-5.01</td>\n",
              "      <td>32725</td>\n",
              "      <td>A.C.D.A. IMPORTAÇÃO E EXPORTAÇÃO - AVIÁRIO</td>\n",
              "      <td>05/02/2011 00:00:00</td>\n",
              "      <td>UTE</td>\n",
              "      <td>272.0</td>\n",
              "      <td>0.0</td>\n",
              "      <td>REG</td>\n",
              "      <td>Fóssil</td>\n",
              "      <td>Petróleo</td>\n",
              "      <td>Óleo Diesel</td>\n",
              "      <td>100.00% para A.C.D.A. Importação e exportação...</td>\n",
              "      <td>Rio Branco - AC - CodIbge: 1200401</td>\n",
              "      <td>12</td>\n",
              "      <td>2021</td>\n",
              "      <td>05/12/2021 00:00:00</td>\n",
              "    </tr>\n",
              "    <tr>\n",
              "      <th>7</th>\n",
              "      <td>UTE.PE.AC.032728-0.01</td>\n",
              "      <td>32728</td>\n",
              "      <td>A.C.D.A. IMPORTAÇÃO E EXPORTAÇÃO - BOSQUE</td>\n",
              "      <td>10/12/2010 00:00:00</td>\n",
              "      <td>UTE</td>\n",
              "      <td>272.0</td>\n",
              "      <td>0.0</td>\n",
              "      <td>REG</td>\n",
              "      <td>Fóssil</td>\n",
              "      <td>Petróleo</td>\n",
              "      <td>Óleo Diesel</td>\n",
              "      <td>100.00% para A.C.D.A. Importação e exportação...</td>\n",
              "      <td>Rio Branco - AC - CodIbge: 1200401</td>\n",
              "      <td>12</td>\n",
              "      <td>2021</td>\n",
              "      <td>05/12/2021 00:00:00</td>\n",
              "    </tr>\n",
              "    <tr>\n",
              "      <th>8</th>\n",
              "      <td>UTE.PE.AC.032704-2.01</td>\n",
              "      <td>32704</td>\n",
              "      <td>A.C.D.A. IMPORTAÇÃO E EXPORTAÇÃO - CHICO MENDES</td>\n",
              "      <td>15/01/2011 00:00:00</td>\n",
              "      <td>UTE</td>\n",
              "      <td>272.0</td>\n",
              "      <td>0.0</td>\n",
              "      <td>REG</td>\n",
              "      <td>Fóssil</td>\n",
              "      <td>Petróleo</td>\n",
              "      <td>Óleo Diesel</td>\n",
              "      <td>100.00% para A.C.D.A. Importação e exportação...</td>\n",
              "      <td>Rio Branco - AC - CodIbge: 1200401</td>\n",
              "      <td>12</td>\n",
              "      <td>2021</td>\n",
              "      <td>05/12/2021 00:00:00</td>\n",
              "    </tr>\n",
              "    <tr>\n",
              "      <th>9</th>\n",
              "      <td>UTE.PE.AC.032701-8.01</td>\n",
              "      <td>32701</td>\n",
              "      <td>A.C.D.A. IMPORTAÇÃO E EXPORTAÇÃO - MIX</td>\n",
              "      <td>05/01/2013 00:00:00</td>\n",
              "      <td>UTE</td>\n",
              "      <td>800.0</td>\n",
              "      <td>0.0</td>\n",
              "      <td>REG</td>\n",
              "      <td>Fóssil</td>\n",
              "      <td>Petróleo</td>\n",
              "      <td>Óleo Diesel</td>\n",
              "      <td>100.00% para A.C.D.A. Importação e exportação...</td>\n",
              "      <td>Rio Branco - AC - CodIbge: 1200401</td>\n",
              "      <td>12</td>\n",
              "      <td>2021</td>\n",
              "      <td>05/12/2021 00:00:00</td>\n",
              "    </tr>\n",
              "  </tbody>\n",
              "</table>\n",
              "</div>"
            ],
            "text/plain": [
              "                  codCEG  codNucleoCEG  ... anoReferencia     dthProcessamento\n",
              "0  UHE.PH.RS.000012-4.01            12  ...          2021  05/12/2021 00:00:00\n",
              "1  UTE.PE.SC.029920-0.01         29920  ...          2021  05/12/2021 00:00:00\n",
              "2  UTE.PE.MG.032686-0.01         32686  ...          2021  05/12/2021 00:00:00\n",
              "3  UTE.PE.SP.028642-7.01         28642  ...          2021  05/12/2021 00:00:00\n",
              "4  UTE.PE.SP.028919-1.01         28919  ...          2021  05/12/2021 00:00:00\n",
              "5  UTE.PE.AC.032707-7.01         32707  ...          2021  05/12/2021 00:00:00\n",
              "6  UTE.PE.AC.032725-5.01         32725  ...          2021  05/12/2021 00:00:00\n",
              "7  UTE.PE.AC.032728-0.01         32728  ...          2021  05/12/2021 00:00:00\n",
              "8  UTE.PE.AC.032704-2.01         32704  ...          2021  05/12/2021 00:00:00\n",
              "9  UTE.PE.AC.032701-8.01         32701  ...          2021  05/12/2021 00:00:00\n",
              "\n",
              "[10 rows x 16 columns]"
            ]
          },
          "metadata": {},
          "execution_count": 15
        }
      ]
    },
    {
      "cell_type": "markdown",
      "metadata": {
        "id": "xzildC5-_Myc"
      },
      "source": [
        "###7 – Com os dados de Empreendimentos de Geração, indique qual é o atributo que mais tem valores nulos e elimine-o."
      ]
    },
    {
      "cell_type": "code",
      "metadata": {
        "colab": {
          "base_uri": "https://localhost:8080/"
        },
        "id": "6fJyWOZJW_XZ",
        "outputId": "8e3c5498-d649-44d8-d248-259b3b975bd8"
      },
      "source": [
        "dados_reg.isnull().sum()"
      ],
      "execution_count": 14,
      "outputs": [
        {
          "output_type": "execute_result",
          "data": {
            "text/plain": [
              "codCEG                           0\n",
              "codNucleoCEG                     0\n",
              "nomEmpreendimento                0\n",
              "datOperacao                     10\n",
              "sigTipoGeracao                   0\n",
              "mdaPotenciaOutorgadakW           0\n",
              "mdaPotenciaFiscalizadakW       250\n",
              "sigDestinoEnergia                0\n",
              "dscOrigemCombustivel             0\n",
              "nomFonteNivel1                   0\n",
              "nomFonteNivel2                   0\n",
              "dscParticipacaoProprietario      3\n",
              "dscMunicipio                     2\n",
              "mesReferencia                    0\n",
              "anoReferencia                    0\n",
              "dthProcessamento                 0\n",
              "dtype: int64"
            ]
          },
          "metadata": {},
          "execution_count": 14
        }
      ]
    },
    {
      "cell_type": "code",
      "metadata": {
        "colab": {
          "base_uri": "https://localhost:8080/"
        },
        "id": "k711Bj9dXTm9",
        "outputId": "a148742f-8567-49d4-cf2d-30cfc4cfff54"
      },
      "source": [
        "dados_reg = dados_reg.drop('mdaPotenciaFiscalizadakW','columns')\n",
        "dados_reg.info()"
      ],
      "execution_count": 15,
      "outputs": [
        {
          "output_type": "stream",
          "name": "stdout",
          "text": [
            "<class 'pandas.core.frame.DataFrame'>\n",
            "RangeIndex: 500 entries, 0 to 499\n",
            "Data columns (total 15 columns):\n",
            " #   Column                       Non-Null Count  Dtype  \n",
            "---  ------                       --------------  -----  \n",
            " 0   codCEG                       500 non-null    object \n",
            " 1   codNucleoCEG                 500 non-null    int64  \n",
            " 2   nomEmpreendimento            500 non-null    object \n",
            " 3   datOperacao                  490 non-null    object \n",
            " 4   sigTipoGeracao               500 non-null    object \n",
            " 5   mdaPotenciaOutorgadakW       500 non-null    float64\n",
            " 6   sigDestinoEnergia            500 non-null    object \n",
            " 7   dscOrigemCombustivel         500 non-null    object \n",
            " 8   nomFonteNivel1               500 non-null    object \n",
            " 9   nomFonteNivel2               500 non-null    object \n",
            " 10  dscParticipacaoProprietario  497 non-null    object \n",
            " 11  dscMunicipio                 498 non-null    object \n",
            " 12  mesReferencia                500 non-null    int64  \n",
            " 13  anoReferencia                500 non-null    int64  \n",
            " 14  dthProcessamento             500 non-null    object \n",
            "dtypes: float64(1), int64(3), object(11)\n",
            "memory usage: 58.7+ KB\n"
          ]
        }
      ]
    },
    {
      "cell_type": "markdown",
      "metadata": {
        "id": "Y1DIT2OkB5y1"
      },
      "source": [
        "###8 – Com os dados de Empreendimentos de Geração, indique qual é o atributo que tem valores nulos na menor quantidade e elimine as linhas que tem esses atributos com valor nulo."
      ]
    },
    {
      "cell_type": "markdown",
      "source": [
        "O atributo com valores nulos na menor quantidade é dscMunicipio."
      ],
      "metadata": {
        "id": "57hA6JxmhTlP"
      }
    },
    {
      "cell_type": "code",
      "source": [
        "dados_reg.dropna(subset=['dscMunicipio'], inplace=True)"
      ],
      "metadata": {
        "id": "6bNejdl8pC8s"
      },
      "execution_count": 16,
      "outputs": []
    },
    {
      "cell_type": "code",
      "source": [
        "dados_reg.isnull().sum()"
      ],
      "metadata": {
        "colab": {
          "base_uri": "https://localhost:8080/"
        },
        "id": "4DHFUOGupQUo",
        "outputId": "f749e995-f44d-4743-ec37-50a8045e1c11"
      },
      "execution_count": 20,
      "outputs": [
        {
          "output_type": "execute_result",
          "data": {
            "text/plain": [
              "codCEG                          0\n",
              "codNucleoCEG                    0\n",
              "nomEmpreendimento               0\n",
              "datOperacao                    10\n",
              "sigTipoGeracao                  0\n",
              "mdaPotenciaOutorgadakW          0\n",
              "sigDestinoEnergia               0\n",
              "dscOrigemCombustivel            0\n",
              "nomFonteNivel1                  0\n",
              "nomFonteNivel2                  0\n",
              "dscParticipacaoProprietario     3\n",
              "dscMunicipio                    0\n",
              "mesReferencia                   0\n",
              "anoReferencia                   0\n",
              "dthProcessamento                0\n",
              "dtype: int64"
            ]
          },
          "metadata": {},
          "execution_count": 20
        }
      ]
    },
    {
      "cell_type": "markdown",
      "metadata": {
        "id": "r10iP9UkCf94"
      },
      "source": [
        "###9 – Com os dados de Empreendimentos de Geração, crie uma nova coluna chamada “mdaPotenciaOutorgadaMW”, baseada na coluna “mdaPotenciaOutorgadakW”. Observe que a nova coluna é em Megawatt e a anterior Kilowatt."
      ]
    },
    {
      "cell_type": "code",
      "source": [
        "dados_reg['mdaPotenciaOutorgadaMW']=dados_reg['mdaPotenciaOutorgadakW']/1000"
      ],
      "metadata": {
        "id": "Cum2_u2nu9hg"
      },
      "execution_count": 24,
      "outputs": []
    },
    {
      "cell_type": "code",
      "source": [
        "dados_reg.head(3)"
      ],
      "metadata": {
        "colab": {
          "base_uri": "https://localhost:8080/",
          "height": 337
        },
        "id": "WV3LlaHnvrUC",
        "outputId": "fdbb55b9-b07a-422a-c3e7-500144108443"
      },
      "execution_count": 27,
      "outputs": [
        {
          "output_type": "execute_result",
          "data": {
            "text/html": [
              "<div>\n",
              "<style scoped>\n",
              "    .dataframe tbody tr th:only-of-type {\n",
              "        vertical-align: middle;\n",
              "    }\n",
              "\n",
              "    .dataframe tbody tr th {\n",
              "        vertical-align: top;\n",
              "    }\n",
              "\n",
              "    .dataframe thead th {\n",
              "        text-align: right;\n",
              "    }\n",
              "</style>\n",
              "<table border=\"1\" class=\"dataframe\">\n",
              "  <thead>\n",
              "    <tr style=\"text-align: right;\">\n",
              "      <th></th>\n",
              "      <th>codCEG</th>\n",
              "      <th>codNucleoCEG</th>\n",
              "      <th>nomEmpreendimento</th>\n",
              "      <th>datOperacao</th>\n",
              "      <th>sigTipoGeracao</th>\n",
              "      <th>mdaPotenciaOutorgadakW</th>\n",
              "      <th>sigDestinoEnergia</th>\n",
              "      <th>dscOrigemCombustivel</th>\n",
              "      <th>nomFonteNivel1</th>\n",
              "      <th>nomFonteNivel2</th>\n",
              "      <th>dscParticipacaoProprietario</th>\n",
              "      <th>dscMunicipio</th>\n",
              "      <th>mesReferencia</th>\n",
              "      <th>anoReferencia</th>\n",
              "      <th>dthProcessamento</th>\n",
              "      <th>mdaPotenciaOutorgadaMW</th>\n",
              "    </tr>\n",
              "  </thead>\n",
              "  <tbody>\n",
              "    <tr>\n",
              "      <th>0</th>\n",
              "      <td>UHE.PH.RS.000012-4.01</td>\n",
              "      <td>12</td>\n",
              "      <td>14 de Julho</td>\n",
              "      <td>25/12/2008 00:00:00</td>\n",
              "      <td>UHE</td>\n",
              "      <td>100000.0</td>\n",
              "      <td>PIE</td>\n",
              "      <td>Hídrica</td>\n",
              "      <td>Potencial hidráulico</td>\n",
              "      <td>Potencial hidráulico</td>\n",
              "      <td>100.00% para COMPANHIA ENERGÉTICA RIO DAS ANTAS</td>\n",
              "      <td>Bento Gonçalves - RS - CodIbge: 4302105 / Cot...</td>\n",
              "      <td>12</td>\n",
              "      <td>2021</td>\n",
              "      <td>05/12/2021 00:00:00</td>\n",
              "      <td>100.000</td>\n",
              "    </tr>\n",
              "    <tr>\n",
              "      <th>1</th>\n",
              "      <td>UTE.PE.SC.029920-0.01</td>\n",
              "      <td>29920</td>\n",
              "      <td>29 de Outubro</td>\n",
              "      <td>07/10/2008 00:00:00</td>\n",
              "      <td>UTE</td>\n",
              "      <td>62.0</td>\n",
              "      <td>REG</td>\n",
              "      <td>Fóssil</td>\n",
              "      <td>Petróleo</td>\n",
              "      <td>Óleo Diesel</td>\n",
              "      <td>100.00% para Condomínio Residencial 29 de Out...</td>\n",
              "      <td>Jaraguá do Sul - SC - CodIbge: 4208906</td>\n",
              "      <td>12</td>\n",
              "      <td>2021</td>\n",
              "      <td>05/12/2021 00:00:00</td>\n",
              "      <td>0.062</td>\n",
              "    </tr>\n",
              "    <tr>\n",
              "      <th>2</th>\n",
              "      <td>UTE.PE.MG.032686-0.01</td>\n",
              "      <td>32686</td>\n",
              "      <td>300KVA SCANIA</td>\n",
              "      <td>01/06/2013 00:00:00</td>\n",
              "      <td>UTE</td>\n",
              "      <td>240.0</td>\n",
              "      <td>REG</td>\n",
              "      <td>Fóssil</td>\n",
              "      <td>Petróleo</td>\n",
              "      <td>Óleo Diesel</td>\n",
              "      <td>100.00% para Mineração Curimbaba Ltda.</td>\n",
              "      <td>Poços de Caldas - MG - CodIbge: 3151800</td>\n",
              "      <td>12</td>\n",
              "      <td>2021</td>\n",
              "      <td>05/12/2021 00:00:00</td>\n",
              "      <td>0.240</td>\n",
              "    </tr>\n",
              "  </tbody>\n",
              "</table>\n",
              "</div>"
            ],
            "text/plain": [
              "                  codCEG  ...  mdaPotenciaOutorgadaMW\n",
              "0  UHE.PH.RS.000012-4.01  ...                 100.000\n",
              "1  UTE.PE.SC.029920-0.01  ...                   0.062\n",
              "2  UTE.PE.MG.032686-0.01  ...                   0.240\n",
              "\n",
              "[3 rows x 16 columns]"
            ]
          },
          "metadata": {},
          "execution_count": 27
        }
      ]
    },
    {
      "cell_type": "markdown",
      "metadata": {
        "id": "uq64UWYLC5W9"
      },
      "source": [
        "###10 – Com os dados de Empreendimentos de Geração, na coluna datOperação, deixe apenas a data nos valores, eliminando a informação sobre horas."
      ]
    },
    {
      "cell_type": "code",
      "source": [
        "dados_reg['datOperação']=dados_reg['datOperacao'].str.replace('00:00:00','')"
      ],
      "metadata": {
        "id": "0sBVBXE7v4Ht"
      },
      "execution_count": 32,
      "outputs": []
    },
    {
      "cell_type": "code",
      "source": [
        "dados_reg['datOperação']"
      ],
      "metadata": {
        "colab": {
          "base_uri": "https://localhost:8080/"
        },
        "id": "8qYmgGC80Rl2",
        "outputId": "6ca4641f-36a0-4926-a016-c85fd6c6650a"
      },
      "execution_count": 35,
      "outputs": [
        {
          "output_type": "execute_result",
          "data": {
            "text/plain": [
              "0      25/12/2008 \n",
              "1      07/10/2008 \n",
              "2      01/06/2013 \n",
              "3      12/06/2002 \n",
              "4      01/10/2001 \n",
              "          ...     \n",
              "495    10/03/2018 \n",
              "496    01/02/2017 \n",
              "497    29/11/2013 \n",
              "498    13/03/2018 \n",
              "499    25/01/2018 \n",
              "Name: datOperação, Length: 498, dtype: object"
            ]
          },
          "metadata": {},
          "execution_count": 35
        }
      ]
    },
    {
      "cell_type": "markdown",
      "metadata": {
        "id": "iseM7G2wHhPO"
      },
      "source": [
        "###11 - Com os dados de Empreendimentos de Geração, crie uma nova coluna a partir da coluna “sigTipoGeracao”, em que os valores categóricos (qualitativos) serão substituídos por valores numéricos. "
      ]
    },
    {
      "cell_type": "code",
      "source": [
        "from sklearn.preprocessing import LabelEncoder"
      ],
      "metadata": {
        "id": "Dqddq55i1KGj"
      },
      "execution_count": 36,
      "outputs": []
    },
    {
      "cell_type": "code",
      "metadata": {
        "id": "b3tyL9f55ITi"
      },
      "source": [
        "geracao = dados_reg['sigTipoGeracao']"
      ],
      "execution_count": 41,
      "outputs": []
    },
    {
      "cell_type": "code",
      "source": [
        "geracao"
      ],
      "metadata": {
        "colab": {
          "base_uri": "https://localhost:8080/"
        },
        "id": "o10w1TCW1l50",
        "outputId": "2b2f04dc-e403-43bb-df95-2efdd42d0fa9"
      },
      "execution_count": 42,
      "outputs": [
        {
          "output_type": "execute_result",
          "data": {
            "text/plain": [
              "0      UHE\n",
              "1      UTE\n",
              "2      UTE\n",
              "3      UTE\n",
              "4      UTE\n",
              "      ... \n",
              "495    UFV\n",
              "496    UTE\n",
              "497    UTE\n",
              "498    UFV\n",
              "499    UFV\n",
              "Name: sigTipoGeracao, Length: 498, dtype: object"
            ]
          },
          "metadata": {},
          "execution_count": 42
        }
      ]
    },
    {
      "cell_type": "code",
      "source": [
        "lencoder = LabelEncoder()\n",
        "geracaonum = lencoder.fit_transform(geracao)\n",
        "geracaonum"
      ],
      "metadata": {
        "colab": {
          "base_uri": "https://localhost:8080/"
        },
        "id": "UnWKs-8W1qDN",
        "outputId": "fff0c847-4052-41c6-9f9d-00953f204b56"
      },
      "execution_count": 45,
      "outputs": [
        {
          "output_type": "execute_result",
          "data": {
            "text/plain": [
              "array([4, 5, 5, 5, 5, 5, 5, 5, 5, 5, 5, 5, 5, 5, 0, 5, 5, 3, 3, 3, 3, 3,\n",
              "       3, 3, 3, 3, 3, 3, 2, 3, 3, 3, 1, 5, 0, 3, 3, 3, 5, 3, 3, 3, 3, 3,\n",
              "       3, 3, 3, 3, 3, 3, 3, 3, 3, 3, 3, 3, 3, 3, 3, 3, 3, 5, 3, 5, 3, 3,\n",
              "       3, 3, 3, 3, 3, 3, 3, 3, 3, 3, 3, 3, 3, 3, 3, 3, 5, 5, 5, 5, 5, 5,\n",
              "       5, 5, 5, 5, 5, 5, 5, 5, 5, 5, 5, 5, 5, 5, 5, 5, 5, 5, 5, 5, 5, 5,\n",
              "       5, 5, 3, 3, 3, 3, 3, 3, 3, 3, 3, 3, 3, 3, 3, 2, 3, 3, 3, 5, 3, 5,\n",
              "       3, 3, 3, 3, 3, 3, 3, 3, 3, 3, 3, 3, 3, 3, 3, 3, 3, 5, 5, 5, 5, 5,\n",
              "       5, 5, 5, 5, 5, 5, 5, 5, 5, 5, 3, 5, 5, 5, 5, 5, 5, 5, 5, 5, 5, 5,\n",
              "       5, 5, 5, 5, 5, 5, 5, 5, 5, 5, 5, 5, 5, 5, 5, 5, 5, 5, 5, 5, 5, 5,\n",
              "       5, 5, 5, 5, 5, 5, 5, 3, 5, 5, 5, 5, 5, 3, 3, 3, 3, 3, 3, 3, 3, 0,\n",
              "       5, 5, 5, 2, 5, 0, 5, 0, 0, 0, 5, 5, 5, 2, 1, 5, 2, 5, 2, 4, 3, 3,\n",
              "       3, 0, 0, 0, 5, 5, 3, 3, 3, 0, 5, 3, 3, 3, 3, 3, 3, 3, 4, 0, 5, 5,\n",
              "       5, 5, 3, 3, 3, 3, 3, 3, 3, 3, 3, 3, 2, 1, 5, 3, 3, 3, 3, 3, 5, 3,\n",
              "       3, 5, 3, 3, 3, 3, 3, 3, 3, 3, 3, 3, 3, 3, 5, 5, 5, 5, 5, 5, 3, 3,\n",
              "       3, 3, 3, 3, 3, 3, 3, 3, 3, 3, 3, 3, 3, 3, 3, 3, 3, 3, 3, 3, 3, 3,\n",
              "       4, 2, 1, 1, 5, 3, 3, 3, 3, 5, 3, 3, 3, 3, 3, 3, 3, 3, 3, 3, 3, 3,\n",
              "       3, 3, 3, 3, 3, 3, 3, 3, 3, 3, 3, 3, 3, 3, 3, 3, 3, 5, 3, 3, 5, 3,\n",
              "       0, 5, 5, 3, 3, 5, 5, 3, 3, 6, 6, 3, 3, 3, 3, 3, 5, 5, 5, 5, 5, 5,\n",
              "       5, 5, 5, 5, 3, 2, 2, 0, 2, 4, 0, 5, 5, 2, 4, 0, 2, 5, 2, 5, 3, 3,\n",
              "       3, 5, 5, 3, 5, 5, 3, 3, 3, 1, 5, 3, 3, 3, 3, 3, 3, 3, 3, 4, 4, 5,\n",
              "       3, 5, 5, 5, 5, 3, 3, 3, 3, 3, 5, 5, 5, 5, 5, 5, 5, 5, 5, 5, 3, 3,\n",
              "       3, 2, 1, 3, 3, 3, 3, 3, 1, 3, 3, 3, 3, 3, 3, 3, 3, 3, 3, 3, 3, 3,\n",
              "       3, 3, 3, 3, 3, 3, 3, 3, 0, 3, 5, 5, 3, 3])"
            ]
          },
          "metadata": {},
          "execution_count": 45
        }
      ]
    },
    {
      "cell_type": "code",
      "source": [
        "dados_reg['sigTipoGeracaoNum'] = geracaonum"
      ],
      "metadata": {
        "id": "D1TBLXFj2UtF"
      },
      "execution_count": 46,
      "outputs": []
    },
    {
      "cell_type": "code",
      "source": [
        "dados_reg['sigTipoGeracaoNum']"
      ],
      "metadata": {
        "colab": {
          "base_uri": "https://localhost:8080/"
        },
        "id": "xbTw0nug2esV",
        "outputId": "a0ecbb28-c50c-41a6-def6-6afb8f43686b"
      },
      "execution_count": 47,
      "outputs": [
        {
          "output_type": "execute_result",
          "data": {
            "text/plain": [
              "0      4\n",
              "1      5\n",
              "2      5\n",
              "3      5\n",
              "4      5\n",
              "      ..\n",
              "495    3\n",
              "496    5\n",
              "497    5\n",
              "498    3\n",
              "499    3\n",
              "Name: sigTipoGeracaoNum, Length: 498, dtype: int64"
            ]
          },
          "metadata": {},
          "execution_count": 47
        }
      ]
    }
  ]
}