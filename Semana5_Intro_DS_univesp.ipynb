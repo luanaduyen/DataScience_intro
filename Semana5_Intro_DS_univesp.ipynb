{
  "nbformat": 4,
  "nbformat_minor": 0,
  "metadata": {
    "colab": {
      "name": "Semana 5 -  Exercício de apoio - Introdução a Ciencia de Dados - COM350.ipynb",
      "provenance": []
    },
    "kernelspec": {
      "name": "python3",
      "display_name": "Python 3"
    },
    "language_info": {
      "name": "python"
    },
    "widgets": {
      "application/vnd.jupyter.widget-state+json": {
        "0f288d863a6b47d18341d73f180b7e6b": {
          "model_module": "@jupyter-widgets/controls",
          "model_name": "HBoxModel",
          "model_module_version": "1.5.0",
          "state": {
            "_view_name": "HBoxView",
            "_dom_classes": [],
            "_model_name": "HBoxModel",
            "_view_module": "@jupyter-widgets/controls",
            "_model_module_version": "1.5.0",
            "_view_count": null,
            "_view_module_version": "1.5.0",
            "box_style": "",
            "layout": "IPY_MODEL_ed6c5515d6a449aca7d7d29cb8ce4999",
            "_model_module": "@jupyter-widgets/controls",
            "children": [
              "IPY_MODEL_cf8fdfc9f88246f8be6946c240dcd6be",
              "IPY_MODEL_2899c688db6e4eacb455f8a12ea20118",
              "IPY_MODEL_5cfc246387ed4fe9b0ccda37b6c7153c"
            ]
          }
        },
        "ed6c5515d6a449aca7d7d29cb8ce4999": {
          "model_module": "@jupyter-widgets/base",
          "model_name": "LayoutModel",
          "model_module_version": "1.2.0",
          "state": {
            "_view_name": "LayoutView",
            "grid_template_rows": null,
            "right": null,
            "justify_content": null,
            "_view_module": "@jupyter-widgets/base",
            "overflow": null,
            "_model_module_version": "1.2.0",
            "_view_count": null,
            "flex_flow": "row wrap",
            "width": "100%",
            "min_width": null,
            "border": null,
            "align_items": null,
            "bottom": null,
            "_model_module": "@jupyter-widgets/base",
            "top": null,
            "grid_column": null,
            "overflow_y": null,
            "overflow_x": null,
            "grid_auto_flow": null,
            "grid_area": null,
            "grid_template_columns": null,
            "flex": null,
            "_model_name": "LayoutModel",
            "justify_items": null,
            "grid_row": null,
            "max_height": null,
            "align_content": null,
            "visibility": null,
            "align_self": null,
            "height": null,
            "min_height": null,
            "padding": null,
            "grid_auto_rows": null,
            "grid_gap": null,
            "max_width": null,
            "order": null,
            "_view_module_version": "1.2.0",
            "grid_template_areas": null,
            "object_position": null,
            "object_fit": null,
            "grid_auto_columns": null,
            "margin": null,
            "display": "inline-flex",
            "left": null
          }
        },
        "cf8fdfc9f88246f8be6946c240dcd6be": {
          "model_module": "@jupyter-widgets/controls",
          "model_name": "HTMLModel",
          "model_module_version": "1.5.0",
          "state": {
            "_view_name": "HTMLView",
            "style": "IPY_MODEL_4c9f97ffd7bd4ac9a711ea535b1bb3f5",
            "_dom_classes": [],
            "description": "",
            "_model_name": "HTMLModel",
            "placeholder": "​",
            "_view_module": "@jupyter-widgets/controls",
            "_model_module_version": "1.5.0",
            "value": "Done! Use &#x27;show&#x27; commands to display/save.   ",
            "_view_count": null,
            "_view_module_version": "1.5.0",
            "description_tooltip": null,
            "_model_module": "@jupyter-widgets/controls",
            "layout": "IPY_MODEL_784439aa35624edfb0fdaf1369d5fcec"
          }
        },
        "2899c688db6e4eacb455f8a12ea20118": {
          "model_module": "@jupyter-widgets/controls",
          "model_name": "FloatProgressModel",
          "model_module_version": "1.5.0",
          "state": {
            "_view_name": "ProgressView",
            "style": "IPY_MODEL_9da08ac5464747e5ae083ed49e307236",
            "_dom_classes": [],
            "description": "",
            "_model_name": "FloatProgressModel",
            "bar_style": "success",
            "max": 1,
            "_view_module": "@jupyter-widgets/controls",
            "_model_module_version": "1.5.0",
            "value": 1,
            "_view_count": null,
            "_view_module_version": "1.5.0",
            "orientation": "horizontal",
            "min": 0,
            "description_tooltip": null,
            "_model_module": "@jupyter-widgets/controls",
            "layout": "IPY_MODEL_84bb3d0f15d343daa3a91426d2eb0a16"
          }
        },
        "5cfc246387ed4fe9b0ccda37b6c7153c": {
          "model_module": "@jupyter-widgets/controls",
          "model_name": "HTMLModel",
          "model_module_version": "1.5.0",
          "state": {
            "_view_name": "HTMLView",
            "style": "IPY_MODEL_252e5c0bc67e4595b42288374db1dcd6",
            "_dom_classes": [],
            "description": "",
            "_model_name": "HTMLModel",
            "placeholder": "​",
            "_view_module": "@jupyter-widgets/controls",
            "_model_module_version": "1.5.0",
            "value": " [100%]   00:00 -&gt; (00:00 left)",
            "_view_count": null,
            "_view_module_version": "1.5.0",
            "description_tooltip": null,
            "_model_module": "@jupyter-widgets/controls",
            "layout": "IPY_MODEL_314b9d81cb2f425a91c706555f755484"
          }
        },
        "4c9f97ffd7bd4ac9a711ea535b1bb3f5": {
          "model_module": "@jupyter-widgets/controls",
          "model_name": "DescriptionStyleModel",
          "model_module_version": "1.5.0",
          "state": {
            "_view_name": "StyleView",
            "_model_name": "DescriptionStyleModel",
            "description_width": "",
            "_view_module": "@jupyter-widgets/base",
            "_model_module_version": "1.5.0",
            "_view_count": null,
            "_view_module_version": "1.2.0",
            "_model_module": "@jupyter-widgets/controls"
          }
        },
        "784439aa35624edfb0fdaf1369d5fcec": {
          "model_module": "@jupyter-widgets/base",
          "model_name": "LayoutModel",
          "model_module_version": "1.2.0",
          "state": {
            "_view_name": "LayoutView",
            "grid_template_rows": null,
            "right": null,
            "justify_content": null,
            "_view_module": "@jupyter-widgets/base",
            "overflow": null,
            "_model_module_version": "1.2.0",
            "_view_count": null,
            "flex_flow": null,
            "width": null,
            "min_width": null,
            "border": null,
            "align_items": null,
            "bottom": null,
            "_model_module": "@jupyter-widgets/base",
            "top": null,
            "grid_column": null,
            "overflow_y": null,
            "overflow_x": null,
            "grid_auto_flow": null,
            "grid_area": null,
            "grid_template_columns": null,
            "flex": null,
            "_model_name": "LayoutModel",
            "justify_items": null,
            "grid_row": null,
            "max_height": null,
            "align_content": null,
            "visibility": null,
            "align_self": null,
            "height": null,
            "min_height": null,
            "padding": null,
            "grid_auto_rows": null,
            "grid_gap": null,
            "max_width": null,
            "order": null,
            "_view_module_version": "1.2.0",
            "grid_template_areas": null,
            "object_position": null,
            "object_fit": null,
            "grid_auto_columns": null,
            "margin": null,
            "display": null,
            "left": null
          }
        },
        "9da08ac5464747e5ae083ed49e307236": {
          "model_module": "@jupyter-widgets/controls",
          "model_name": "ProgressStyleModel",
          "model_module_version": "1.5.0",
          "state": {
            "_view_name": "StyleView",
            "_model_name": "ProgressStyleModel",
            "description_width": "",
            "_view_module": "@jupyter-widgets/base",
            "_model_module_version": "1.5.0",
            "_view_count": null,
            "_view_module_version": "1.2.0",
            "bar_color": null,
            "_model_module": "@jupyter-widgets/controls"
          }
        },
        "84bb3d0f15d343daa3a91426d2eb0a16": {
          "model_module": "@jupyter-widgets/base",
          "model_name": "LayoutModel",
          "model_module_version": "1.2.0",
          "state": {
            "_view_name": "LayoutView",
            "grid_template_rows": null,
            "right": null,
            "justify_content": null,
            "_view_module": "@jupyter-widgets/base",
            "overflow": null,
            "_model_module_version": "1.2.0",
            "_view_count": null,
            "flex_flow": null,
            "width": null,
            "min_width": null,
            "border": null,
            "align_items": null,
            "bottom": null,
            "_model_module": "@jupyter-widgets/base",
            "top": null,
            "grid_column": null,
            "overflow_y": null,
            "overflow_x": null,
            "grid_auto_flow": null,
            "grid_area": null,
            "grid_template_columns": null,
            "flex": "2",
            "_model_name": "LayoutModel",
            "justify_items": null,
            "grid_row": null,
            "max_height": null,
            "align_content": null,
            "visibility": null,
            "align_self": null,
            "height": null,
            "min_height": null,
            "padding": null,
            "grid_auto_rows": null,
            "grid_gap": null,
            "max_width": null,
            "order": null,
            "_view_module_version": "1.2.0",
            "grid_template_areas": null,
            "object_position": null,
            "object_fit": null,
            "grid_auto_columns": null,
            "margin": null,
            "display": null,
            "left": null
          }
        },
        "252e5c0bc67e4595b42288374db1dcd6": {
          "model_module": "@jupyter-widgets/controls",
          "model_name": "DescriptionStyleModel",
          "model_module_version": "1.5.0",
          "state": {
            "_view_name": "StyleView",
            "_model_name": "DescriptionStyleModel",
            "description_width": "",
            "_view_module": "@jupyter-widgets/base",
            "_model_module_version": "1.5.0",
            "_view_count": null,
            "_view_module_version": "1.2.0",
            "_model_module": "@jupyter-widgets/controls"
          }
        },
        "314b9d81cb2f425a91c706555f755484": {
          "model_module": "@jupyter-widgets/base",
          "model_name": "LayoutModel",
          "model_module_version": "1.2.0",
          "state": {
            "_view_name": "LayoutView",
            "grid_template_rows": null,
            "right": null,
            "justify_content": null,
            "_view_module": "@jupyter-widgets/base",
            "overflow": null,
            "_model_module_version": "1.2.0",
            "_view_count": null,
            "flex_flow": null,
            "width": null,
            "min_width": null,
            "border": null,
            "align_items": null,
            "bottom": null,
            "_model_module": "@jupyter-widgets/base",
            "top": null,
            "grid_column": null,
            "overflow_y": null,
            "overflow_x": null,
            "grid_auto_flow": null,
            "grid_area": null,
            "grid_template_columns": null,
            "flex": null,
            "_model_name": "LayoutModel",
            "justify_items": null,
            "grid_row": null,
            "max_height": null,
            "align_content": null,
            "visibility": null,
            "align_self": null,
            "height": null,
            "min_height": null,
            "padding": null,
            "grid_auto_rows": null,
            "grid_gap": null,
            "max_width": null,
            "order": null,
            "_view_module_version": "1.2.0",
            "grid_template_areas": null,
            "object_position": null,
            "object_fit": null,
            "grid_auto_columns": null,
            "margin": null,
            "display": null,
            "left": null
          }
        }
      }
    }
  },
  "cells": [
    {
      "cell_type": "markdown",
      "metadata": {
        "id": "wJJvfS2cXbRW"
      },
      "source": [
        "##Disciplina - Introdução a Ciência de Dados - Univesp\n",
        "##Exercícios de Apoio da Semana 5\n"
      ]
    },
    {
      "cell_type": "markdown",
      "metadata": {
        "id": "inxdWwo7WnGW"
      },
      "source": [
        "###1 – Indique 3 algoritmos da biblioteca Scikit-Learn que podem ser utilizados tanto para regressão quanto para classificação.\n"
      ]
    },
    {
      "cell_type": "markdown",
      "source": [
        ""
      ],
      "metadata": {
        "id": "6CbUxMyMTejZ"
      }
    },
    {
      "cell_type": "markdown",
      "source": [
        "<a href='https://scikit-learn.org/stable/modules/svm.html#svm-classification'>SVM<a/> <br>\n",
        "<a href='https://scikit-learn.org/stable/modules/neighbors.html#classification'>Nearest Neighbour Classification<a> <br>\n",
        "<a href='https://scikit-learn.org/stable/modules/ensemble.html#forest'>Random Forest</a>"
      ],
      "metadata": {
        "id": "a_DtjAlOThCy"
      }
    },
    {
      "cell_type": "markdown",
      "metadata": {
        "id": "GsgHD6hqWu8M"
      },
      "source": [
        "###2 – Importe os dados de um arquivo CSV de avaliações de um modelo de Iphone, disponível no Kaggle (https://www.kaggle.com/kmldas/apple-iphone-se-reviews-ratings).  Uso de bibliotecas é por sua conta!\n",
        "\n"
      ]
    },
    {
      "cell_type": "code",
      "source": [
        "import pandas as pd\n"
      ],
      "metadata": {
        "id": "409KOIEtfXgj"
      },
      "execution_count": 1,
      "outputs": []
    },
    {
      "cell_type": "code",
      "source": [
        "iphonert = pd.read_csv('/content/APPLE_iPhone_SE.csv')"
      ],
      "metadata": {
        "id": "vozH3zPkg6LX"
      },
      "execution_count": 2,
      "outputs": []
    },
    {
      "cell_type": "code",
      "source": [
        "iphonert.head()"
      ],
      "metadata": {
        "colab": {
          "base_uri": "https://localhost:8080/",
          "height": 206
        },
        "id": "gweVTLz3iLBl",
        "outputId": "c04cadc0-5916-4dd8-b680-07f7f75c641a"
      },
      "execution_count": 3,
      "outputs": [
        {
          "output_type": "execute_result",
          "data": {
            "text/html": [
              "<div>\n",
              "<style scoped>\n",
              "    .dataframe tbody tr th:only-of-type {\n",
              "        vertical-align: middle;\n",
              "    }\n",
              "\n",
              "    .dataframe tbody tr th {\n",
              "        vertical-align: top;\n",
              "    }\n",
              "\n",
              "    .dataframe thead th {\n",
              "        text-align: right;\n",
              "    }\n",
              "</style>\n",
              "<table border=\"1\" class=\"dataframe\">\n",
              "  <thead>\n",
              "    <tr style=\"text-align: right;\">\n",
              "      <th></th>\n",
              "      <th>Ratings</th>\n",
              "      <th>Comment</th>\n",
              "      <th>Reviews</th>\n",
              "    </tr>\n",
              "  </thead>\n",
              "  <tbody>\n",
              "    <tr>\n",
              "      <th>0</th>\n",
              "      <td>5</td>\n",
              "      <td>Super!</td>\n",
              "      <td>Great camera for pics and videos Battery life ...</td>\n",
              "    </tr>\n",
              "    <tr>\n",
              "      <th>1</th>\n",
              "      <td>5</td>\n",
              "      <td>Must buy!</td>\n",
              "      <td>Great device. Let me tell the Pros..1. Superb ...</td>\n",
              "    </tr>\n",
              "    <tr>\n",
              "      <th>2</th>\n",
              "      <td>5</td>\n",
              "      <td>Great product</td>\n",
              "      <td>Who all loves older size i.e., 4.7 inch type s...</td>\n",
              "    </tr>\n",
              "    <tr>\n",
              "      <th>3</th>\n",
              "      <td>5</td>\n",
              "      <td>Simply awesome</td>\n",
              "      <td>This iPhone SE is the best phone ever you get....</td>\n",
              "    </tr>\n",
              "    <tr>\n",
              "      <th>4</th>\n",
              "      <td>5</td>\n",
              "      <td>Classy product</td>\n",
              "      <td>This is my second iphone after iphone 4s. I’ve...</td>\n",
              "    </tr>\n",
              "  </tbody>\n",
              "</table>\n",
              "</div>"
            ],
            "text/plain": [
              "   Ratings         Comment                                            Reviews\n",
              "0        5          Super!  Great camera for pics and videos Battery life ...\n",
              "1        5       Must buy!  Great device. Let me tell the Pros..1. Superb ...\n",
              "2        5   Great product  Who all loves older size i.e., 4.7 inch type s...\n",
              "3        5  Simply awesome  This iPhone SE is the best phone ever you get....\n",
              "4        5  Classy product  This is my second iphone after iphone 4s. I’ve..."
            ]
          },
          "metadata": {},
          "execution_count": 3
        }
      ]
    },
    {
      "cell_type": "markdown",
      "metadata": {
        "id": "f3ssRKEuWxvg"
      },
      "source": [
        "###3 – Quantas linhas tem o arquivo?\n"
      ]
    },
    {
      "cell_type": "code",
      "source": [
        "iphonert"
      ],
      "metadata": {
        "colab": {
          "base_uri": "https://localhost:8080/",
          "height": 424
        },
        "id": "f3izvlGGiV0-",
        "outputId": "d5ed16a3-fd37-4984-e24b-3ed4490da623"
      },
      "execution_count": 4,
      "outputs": [
        {
          "output_type": "execute_result",
          "data": {
            "text/html": [
              "<div>\n",
              "<style scoped>\n",
              "    .dataframe tbody tr th:only-of-type {\n",
              "        vertical-align: middle;\n",
              "    }\n",
              "\n",
              "    .dataframe tbody tr th {\n",
              "        vertical-align: top;\n",
              "    }\n",
              "\n",
              "    .dataframe thead th {\n",
              "        text-align: right;\n",
              "    }\n",
              "</style>\n",
              "<table border=\"1\" class=\"dataframe\">\n",
              "  <thead>\n",
              "    <tr style=\"text-align: right;\">\n",
              "      <th></th>\n",
              "      <th>Ratings</th>\n",
              "      <th>Comment</th>\n",
              "      <th>Reviews</th>\n",
              "    </tr>\n",
              "  </thead>\n",
              "  <tbody>\n",
              "    <tr>\n",
              "      <th>0</th>\n",
              "      <td>5</td>\n",
              "      <td>Super!</td>\n",
              "      <td>Great camera for pics and videos Battery life ...</td>\n",
              "    </tr>\n",
              "    <tr>\n",
              "      <th>1</th>\n",
              "      <td>5</td>\n",
              "      <td>Must buy!</td>\n",
              "      <td>Great device. Let me tell the Pros..1. Superb ...</td>\n",
              "    </tr>\n",
              "    <tr>\n",
              "      <th>2</th>\n",
              "      <td>5</td>\n",
              "      <td>Great product</td>\n",
              "      <td>Who all loves older size i.e., 4.7 inch type s...</td>\n",
              "    </tr>\n",
              "    <tr>\n",
              "      <th>3</th>\n",
              "      <td>5</td>\n",
              "      <td>Simply awesome</td>\n",
              "      <td>This iPhone SE is the best phone ever you get....</td>\n",
              "    </tr>\n",
              "    <tr>\n",
              "      <th>4</th>\n",
              "      <td>5</td>\n",
              "      <td>Classy product</td>\n",
              "      <td>This is my second iphone after iphone 4s. I’ve...</td>\n",
              "    </tr>\n",
              "    <tr>\n",
              "      <th>...</th>\n",
              "      <td>...</td>\n",
              "      <td>...</td>\n",
              "      <td>...</td>\n",
              "    </tr>\n",
              "    <tr>\n",
              "      <th>9708</th>\n",
              "      <td>5</td>\n",
              "      <td>Terrific purchase</td>\n",
              "      <td>Absolutely brilliantREAD MORE</td>\n",
              "    </tr>\n",
              "    <tr>\n",
              "      <th>9709</th>\n",
              "      <td>5</td>\n",
              "      <td>Classy product</td>\n",
              "      <td>Superb phone. This is my 4th iPhone, I feel SE...</td>\n",
              "    </tr>\n",
              "    <tr>\n",
              "      <th>9710</th>\n",
              "      <td>5</td>\n",
              "      <td>Awesome</td>\n",
              "      <td>very niceREAD MORE</td>\n",
              "    </tr>\n",
              "    <tr>\n",
              "      <th>9711</th>\n",
              "      <td>5</td>\n",
              "      <td>Super!</td>\n",
              "      <td>Loving it as of now. Good Product .READ MORE</td>\n",
              "    </tr>\n",
              "    <tr>\n",
              "      <th>9712</th>\n",
              "      <td>5</td>\n",
              "      <td>Terrific purchase</td>\n",
              "      <td>NiceElegant ElectricREAD MORE</td>\n",
              "    </tr>\n",
              "  </tbody>\n",
              "</table>\n",
              "<p>9713 rows × 3 columns</p>\n",
              "</div>"
            ],
            "text/plain": [
              "      Ratings  ...                                            Reviews\n",
              "0           5  ...  Great camera for pics and videos Battery life ...\n",
              "1           5  ...  Great device. Let me tell the Pros..1. Superb ...\n",
              "2           5  ...  Who all loves older size i.e., 4.7 inch type s...\n",
              "3           5  ...  This iPhone SE is the best phone ever you get....\n",
              "4           5  ...  This is my second iphone after iphone 4s. I’ve...\n",
              "...       ...  ...                                                ...\n",
              "9708        5  ...                      Absolutely brilliantREAD MORE\n",
              "9709        5  ...  Superb phone. This is my 4th iPhone, I feel SE...\n",
              "9710        5  ...                                 very niceREAD MORE\n",
              "9711        5  ...       Loving it as of now. Good Product .READ MORE\n",
              "9712        5  ...                      NiceElegant ElectricREAD MORE\n",
              "\n",
              "[9713 rows x 3 columns]"
            ]
          },
          "metadata": {},
          "execution_count": 4
        }
      ]
    },
    {
      "cell_type": "markdown",
      "source": [
        "O arquivo tem 9713 linhas."
      ],
      "metadata": {
        "id": "tSHvXBt-i9JX"
      }
    },
    {
      "cell_type": "markdown",
      "metadata": {
        "id": "5SluQrxQW4Ke"
      },
      "source": [
        "###4 – Qual a média das notas atribuídas?\n"
      ]
    },
    {
      "cell_type": "code",
      "source": [
        "iphonert.describe(include='all')"
      ],
      "metadata": {
        "colab": {
          "base_uri": "https://localhost:8080/",
          "height": 394
        },
        "id": "cs4dvNJ4n315",
        "outputId": "055f2562-9144-48fa-c278-64fa203229dc"
      },
      "execution_count": 5,
      "outputs": [
        {
          "output_type": "execute_result",
          "data": {
            "text/html": [
              "<div>\n",
              "<style scoped>\n",
              "    .dataframe tbody tr th:only-of-type {\n",
              "        vertical-align: middle;\n",
              "    }\n",
              "\n",
              "    .dataframe tbody tr th {\n",
              "        vertical-align: top;\n",
              "    }\n",
              "\n",
              "    .dataframe thead th {\n",
              "        text-align: right;\n",
              "    }\n",
              "</style>\n",
              "<table border=\"1\" class=\"dataframe\">\n",
              "  <thead>\n",
              "    <tr style=\"text-align: right;\">\n",
              "      <th></th>\n",
              "      <th>Ratings</th>\n",
              "      <th>Comment</th>\n",
              "      <th>Reviews</th>\n",
              "    </tr>\n",
              "  </thead>\n",
              "  <tbody>\n",
              "    <tr>\n",
              "      <th>count</th>\n",
              "      <td>9713.000000</td>\n",
              "      <td>9713</td>\n",
              "      <td>9713</td>\n",
              "    </tr>\n",
              "    <tr>\n",
              "      <th>unique</th>\n",
              "      <td>NaN</td>\n",
              "      <td>264</td>\n",
              "      <td>8229</td>\n",
              "    </tr>\n",
              "    <tr>\n",
              "      <th>top</th>\n",
              "      <td>NaN</td>\n",
              "      <td>Wonderful</td>\n",
              "      <td>GoodREAD MORE</td>\n",
              "    </tr>\n",
              "    <tr>\n",
              "      <th>freq</th>\n",
              "      <td>NaN</td>\n",
              "      <td>544</td>\n",
              "      <td>245</td>\n",
              "    </tr>\n",
              "    <tr>\n",
              "      <th>mean</th>\n",
              "      <td>4.456399</td>\n",
              "      <td>NaN</td>\n",
              "      <td>NaN</td>\n",
              "    </tr>\n",
              "    <tr>\n",
              "      <th>std</th>\n",
              "      <td>1.032911</td>\n",
              "      <td>NaN</td>\n",
              "      <td>NaN</td>\n",
              "    </tr>\n",
              "    <tr>\n",
              "      <th>min</th>\n",
              "      <td>1.000000</td>\n",
              "      <td>NaN</td>\n",
              "      <td>NaN</td>\n",
              "    </tr>\n",
              "    <tr>\n",
              "      <th>25%</th>\n",
              "      <td>4.000000</td>\n",
              "      <td>NaN</td>\n",
              "      <td>NaN</td>\n",
              "    </tr>\n",
              "    <tr>\n",
              "      <th>50%</th>\n",
              "      <td>5.000000</td>\n",
              "      <td>NaN</td>\n",
              "      <td>NaN</td>\n",
              "    </tr>\n",
              "    <tr>\n",
              "      <th>75%</th>\n",
              "      <td>5.000000</td>\n",
              "      <td>NaN</td>\n",
              "      <td>NaN</td>\n",
              "    </tr>\n",
              "    <tr>\n",
              "      <th>max</th>\n",
              "      <td>5.000000</td>\n",
              "      <td>NaN</td>\n",
              "      <td>NaN</td>\n",
              "    </tr>\n",
              "  </tbody>\n",
              "</table>\n",
              "</div>"
            ],
            "text/plain": [
              "            Ratings    Comment        Reviews\n",
              "count   9713.000000       9713           9713\n",
              "unique          NaN        264           8229\n",
              "top             NaN  Wonderful  GoodREAD MORE\n",
              "freq            NaN        544            245\n",
              "mean       4.456399        NaN            NaN\n",
              "std        1.032911        NaN            NaN\n",
              "min        1.000000        NaN            NaN\n",
              "25%        4.000000        NaN            NaN\n",
              "50%        5.000000        NaN            NaN\n",
              "75%        5.000000        NaN            NaN\n",
              "max        5.000000        NaN            NaN"
            ]
          },
          "metadata": {},
          "execution_count": 5
        }
      ]
    },
    {
      "cell_type": "markdown",
      "source": [
        "A média das notas atribuidas é de aproximadamente 4,46."
      ],
      "metadata": {
        "id": "2y-GPl3DoLbL"
      }
    },
    {
      "cell_type": "markdown",
      "metadata": {
        "id": "v461f_HIW6gQ"
      },
      "source": [
        "###5 – Qual é a nota mais atribuída? Quantas vezes ela foi atribuída? Quantos % das notas totais?\n"
      ]
    },
    {
      "cell_type": "code",
      "source": [
        "!pip install sweetviz\n",
        "import sweetviz"
      ],
      "metadata": {
        "colab": {
          "base_uri": "https://localhost:8080/"
        },
        "id": "ARSsw6GdVBuh",
        "outputId": "3d26e48a-5a15-4cb1-c958-5905d6cbc939"
      },
      "execution_count": 6,
      "outputs": [
        {
          "output_type": "stream",
          "name": "stdout",
          "text": [
            "Collecting sweetviz\n",
            "  Downloading sweetviz-2.1.3-py3-none-any.whl (15.1 MB)\n",
            "\u001b[K     |████████████████████████████████| 15.1 MB 19.0 MB/s \n",
            "\u001b[?25hRequirement already satisfied: matplotlib>=3.1.3 in /usr/local/lib/python3.7/dist-packages (from sweetviz) (3.2.2)\n",
            "Requirement already satisfied: jinja2>=2.11.1 in /usr/local/lib/python3.7/dist-packages (from sweetviz) (2.11.3)\n",
            "Requirement already satisfied: pandas!=1.0.0,!=1.0.1,!=1.0.2,>=0.25.3 in /usr/local/lib/python3.7/dist-packages (from sweetviz) (1.1.5)\n",
            "Requirement already satisfied: importlib-resources>=1.2.0 in /usr/local/lib/python3.7/dist-packages (from sweetviz) (5.4.0)\n",
            "Requirement already satisfied: scipy>=1.3.2 in /usr/local/lib/python3.7/dist-packages (from sweetviz) (1.4.1)\n",
            "Requirement already satisfied: numpy>=1.16.0 in /usr/local/lib/python3.7/dist-packages (from sweetviz) (1.19.5)\n",
            "Requirement already satisfied: tqdm>=4.43.0 in /usr/local/lib/python3.7/dist-packages (from sweetviz) (4.62.3)\n",
            "Requirement already satisfied: zipp>=3.1.0 in /usr/local/lib/python3.7/dist-packages (from importlib-resources>=1.2.0->sweetviz) (3.6.0)\n",
            "Requirement already satisfied: MarkupSafe>=0.23 in /usr/local/lib/python3.7/dist-packages (from jinja2>=2.11.1->sweetviz) (2.0.1)\n",
            "Requirement already satisfied: pyparsing!=2.0.4,!=2.1.2,!=2.1.6,>=2.0.1 in /usr/local/lib/python3.7/dist-packages (from matplotlib>=3.1.3->sweetviz) (3.0.6)\n",
            "Requirement already satisfied: kiwisolver>=1.0.1 in /usr/local/lib/python3.7/dist-packages (from matplotlib>=3.1.3->sweetviz) (1.3.2)\n",
            "Requirement already satisfied: python-dateutil>=2.1 in /usr/local/lib/python3.7/dist-packages (from matplotlib>=3.1.3->sweetviz) (2.8.2)\n",
            "Requirement already satisfied: cycler>=0.10 in /usr/local/lib/python3.7/dist-packages (from matplotlib>=3.1.3->sweetviz) (0.11.0)\n",
            "Requirement already satisfied: pytz>=2017.2 in /usr/local/lib/python3.7/dist-packages (from pandas!=1.0.0,!=1.0.1,!=1.0.2,>=0.25.3->sweetviz) (2018.9)\n",
            "Requirement already satisfied: six>=1.5 in /usr/local/lib/python3.7/dist-packages (from python-dateutil>=2.1->matplotlib>=3.1.3->sweetviz) (1.15.0)\n",
            "Installing collected packages: sweetviz\n",
            "Successfully installed sweetviz-2.1.3\n"
          ]
        }
      ]
    },
    {
      "cell_type": "code",
      "source": [
        "eda=sweetviz.analyze(iphonert)\n",
        "eda.show_html()"
      ],
      "metadata": {
        "colab": {
          "base_uri": "https://localhost:8080/",
          "height": 86,
          "referenced_widgets": [
            "0f288d863a6b47d18341d73f180b7e6b",
            "ed6c5515d6a449aca7d7d29cb8ce4999",
            "cf8fdfc9f88246f8be6946c240dcd6be",
            "2899c688db6e4eacb455f8a12ea20118",
            "5cfc246387ed4fe9b0ccda37b6c7153c",
            "4c9f97ffd7bd4ac9a711ea535b1bb3f5",
            "784439aa35624edfb0fdaf1369d5fcec",
            "9da08ac5464747e5ae083ed49e307236",
            "84bb3d0f15d343daa3a91426d2eb0a16",
            "252e5c0bc67e4595b42288374db1dcd6",
            "314b9d81cb2f425a91c706555f755484"
          ]
        },
        "id": "8K5FgamqVaWW",
        "outputId": "298a9a20-ee5e-4edb-d949-1cc3c234ead5"
      },
      "execution_count": 7,
      "outputs": [
        {
          "output_type": "display_data",
          "data": {
            "application/vnd.jupyter.widget-view+json": {
              "model_id": "0f288d863a6b47d18341d73f180b7e6b",
              "version_minor": 0,
              "version_major": 2
            },
            "text/plain": [
              "                                             |          | [  0%]   00:00 -> (? left)"
            ]
          },
          "metadata": {}
        },
        {
          "output_type": "stream",
          "name": "stdout",
          "text": [
            "Report SWEETVIZ_REPORT.html was generated! NOTEBOOK/COLAB USERS: the web browser MAY not pop up, regardless, the report IS saved in your notebook/colab files.\n"
          ]
        }
      ]
    },
    {
      "cell_type": "markdown",
      "source": [
        ""
      ],
      "metadata": {
        "id": "I4diB55NQP2s"
      }
    },
    {
      "cell_type": "code",
      "source": [
        "iphonert['Ratings'].value_counts()"
      ],
      "metadata": {
        "colab": {
          "base_uri": "https://localhost:8080/"
        },
        "id": "LyAwjyncQ0fY",
        "outputId": "f675fbb3-fcbf-45f7-d7af-2886cc71a1fe"
      },
      "execution_count": 8,
      "outputs": [
        {
          "output_type": "execute_result",
          "data": {
            "text/plain": [
              "5    6788\n",
              "4    1717\n",
              "3     535\n",
              "1     474\n",
              "2     199\n",
              "Name: Ratings, dtype: int64"
            ]
          },
          "metadata": {},
          "execution_count": 8
        }
      ]
    },
    {
      "cell_type": "markdown",
      "source": [
        "![Sweetviz_iphonert.png](data:image/png;base64,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)"
      ],
      "metadata": {
        "id": "4qS_gAZXRy--"
      }
    },
    {
      "cell_type": "markdown",
      "source": [
        "A nota mais atribuida foi 5, nota dada 6788 vezes com 70% das notas totais."
      ],
      "metadata": {
        "id": "LyvlcshlR8so"
      }
    },
    {
      "cell_type": "markdown",
      "metadata": {
        "id": "6Co2PiyPXAjU"
      },
      "source": [
        "###6 – Qual a nota menos atribuída? Qual a porcentagem que ela representa no todo?\n"
      ]
    },
    {
      "cell_type": "markdown",
      "source": [
        "A nota menos atribuida foi 2 que representa 2% das notas totais."
      ],
      "metadata": {
        "id": "9Td2yLAOSODL"
      }
    },
    {
      "cell_type": "markdown",
      "metadata": {
        "id": "NNtJa1h0XB9J"
      },
      "source": [
        "###7 – Um dos comentários atribuídos é “Worth every penny” ou seja, “Vale cada centavo”. Faça a alteração nessas linhas do texto em inglês para o texto em português.\n"
      ]
    },
    {
      "cell_type": "code",
      "source": [
        "iphonert['Comment']=iphonert['Comment'].str.replace('Worth every penny','Vale cada centavo')"
      ],
      "metadata": {
        "id": "IlZCQsY9q596"
      },
      "execution_count": 9,
      "outputs": []
    },
    {
      "cell_type": "code",
      "source": [
        "iphonert[iphonert['Comment']=='Vale cada centavo']"
      ],
      "metadata": {
        "colab": {
          "base_uri": "https://localhost:8080/",
          "height": 424
        },
        "id": "nLqRSnzwvpe2",
        "outputId": "65c1e872-4416-4660-c0a8-474b17870f2c"
      },
      "execution_count": 10,
      "outputs": [
        {
          "output_type": "execute_result",
          "data": {
            "text/html": [
              "<div>\n",
              "<style scoped>\n",
              "    .dataframe tbody tr th:only-of-type {\n",
              "        vertical-align: middle;\n",
              "    }\n",
              "\n",
              "    .dataframe tbody tr th {\n",
              "        vertical-align: top;\n",
              "    }\n",
              "\n",
              "    .dataframe thead th {\n",
              "        text-align: right;\n",
              "    }\n",
              "</style>\n",
              "<table border=\"1\" class=\"dataframe\">\n",
              "  <thead>\n",
              "    <tr style=\"text-align: right;\">\n",
              "      <th></th>\n",
              "      <th>Ratings</th>\n",
              "      <th>Comment</th>\n",
              "      <th>Reviews</th>\n",
              "    </tr>\n",
              "  </thead>\n",
              "  <tbody>\n",
              "    <tr>\n",
              "      <th>56</th>\n",
              "      <td>5</td>\n",
              "      <td>Vale cada centavo</td>\n",
              "      <td>Best model if you wish to enter the Apple ecos...</td>\n",
              "    </tr>\n",
              "    <tr>\n",
              "      <th>115</th>\n",
              "      <td>5</td>\n",
              "      <td>Vale cada centavo</td>\n",
              "      <td>It's budget phone overall is the best only ban...</td>\n",
              "    </tr>\n",
              "    <tr>\n",
              "      <th>123</th>\n",
              "      <td>5</td>\n",
              "      <td>Vale cada centavo</td>\n",
              "      <td>Best phone i have ever purchased..tho battery ...</td>\n",
              "    </tr>\n",
              "    <tr>\n",
              "      <th>140</th>\n",
              "      <td>5</td>\n",
              "      <td>Vale cada centavo</td>\n",
              "      <td>Nice apple product. It works very fast and bes...</td>\n",
              "    </tr>\n",
              "    <tr>\n",
              "      <th>161</th>\n",
              "      <td>5</td>\n",
              "      <td>Vale cada centavo</td>\n",
              "      <td>Thumbs up to this new product from apple,just ...</td>\n",
              "    </tr>\n",
              "    <tr>\n",
              "      <th>...</th>\n",
              "      <td>...</td>\n",
              "      <td>...</td>\n",
              "      <td>...</td>\n",
              "    </tr>\n",
              "    <tr>\n",
              "      <th>9609</th>\n",
              "      <td>5</td>\n",
              "      <td>Vale cada centavo</td>\n",
              "      <td>Overall good product but Some apps crashing on...</td>\n",
              "    </tr>\n",
              "    <tr>\n",
              "      <th>9611</th>\n",
              "      <td>5</td>\n",
              "      <td>Vale cada centavo</td>\n",
              "      <td>Except battery everything is perfect and wonde...</td>\n",
              "    </tr>\n",
              "    <tr>\n",
              "      <th>9643</th>\n",
              "      <td>5</td>\n",
              "      <td>Vale cada centavo</td>\n",
              "      <td>The phone looks awesome and is complete value ...</td>\n",
              "    </tr>\n",
              "    <tr>\n",
              "      <th>9659</th>\n",
              "      <td>5</td>\n",
              "      <td>Vale cada centavo</td>\n",
              "      <td>Phone with good performance and camera. Seamle...</td>\n",
              "    </tr>\n",
              "    <tr>\n",
              "      <th>9672</th>\n",
              "      <td>5</td>\n",
              "      <td>Vale cada centavo</td>\n",
              "      <td>Good mobile in iOSREAD MORE</td>\n",
              "    </tr>\n",
              "  </tbody>\n",
              "</table>\n",
              "<p>372 rows × 3 columns</p>\n",
              "</div>"
            ],
            "text/plain": [
              "      Ratings  ...                                            Reviews\n",
              "56          5  ...  Best model if you wish to enter the Apple ecos...\n",
              "115         5  ...  It's budget phone overall is the best only ban...\n",
              "123         5  ...  Best phone i have ever purchased..tho battery ...\n",
              "140         5  ...  Nice apple product. It works very fast and bes...\n",
              "161         5  ...  Thumbs up to this new product from apple,just ...\n",
              "...       ...  ...                                                ...\n",
              "9609        5  ...  Overall good product but Some apps crashing on...\n",
              "9611        5  ...  Except battery everything is perfect and wonde...\n",
              "9643        5  ...  The phone looks awesome and is complete value ...\n",
              "9659        5  ...  Phone with good performance and camera. Seamle...\n",
              "9672        5  ...                        Good mobile in iOSREAD MORE\n",
              "\n",
              "[372 rows x 3 columns]"
            ]
          },
          "metadata": {},
          "execution_count": 10
        }
      ]
    },
    {
      "cell_type": "markdown",
      "metadata": {
        "id": "20V5vHQSXDCO"
      },
      "source": [
        "###8 – Exclua todas as linhas em que o Comentário é “Hated it!”. Esse comentário aparece 23 vezes na lista de comentários."
      ]
    },
    {
      "cell_type": "code",
      "source": [
        "iphonert[iphonert['Comment']=='Hated it!']"
      ],
      "metadata": {
        "colab": {
          "base_uri": "https://localhost:8080/",
          "height": 771
        },
        "id": "AjMXRHONxgb5",
        "outputId": "3b004fca-b337-42ce-cab5-319eb6da4dd4"
      },
      "execution_count": 11,
      "outputs": [
        {
          "output_type": "execute_result",
          "data": {
            "text/html": [
              "<div>\n",
              "<style scoped>\n",
              "    .dataframe tbody tr th:only-of-type {\n",
              "        vertical-align: middle;\n",
              "    }\n",
              "\n",
              "    .dataframe tbody tr th {\n",
              "        vertical-align: top;\n",
              "    }\n",
              "\n",
              "    .dataframe thead th {\n",
              "        text-align: right;\n",
              "    }\n",
              "</style>\n",
              "<table border=\"1\" class=\"dataframe\">\n",
              "  <thead>\n",
              "    <tr style=\"text-align: right;\">\n",
              "      <th></th>\n",
              "      <th>Ratings</th>\n",
              "      <th>Comment</th>\n",
              "      <th>Reviews</th>\n",
              "    </tr>\n",
              "  </thead>\n",
              "  <tbody>\n",
              "    <tr>\n",
              "      <th>905</th>\n",
              "      <td>1</td>\n",
              "      <td>Hated it!</td>\n",
              "      <td>One of the worst mobile phones I have ever use...</td>\n",
              "    </tr>\n",
              "    <tr>\n",
              "      <th>934</th>\n",
              "      <td>1</td>\n",
              "      <td>Hated it!</td>\n",
              "      <td>If any one of you want to exchange your phone ...</td>\n",
              "    </tr>\n",
              "    <tr>\n",
              "      <th>941</th>\n",
              "      <td>1</td>\n",
              "      <td>Hated it!</td>\n",
              "      <td>While buying it was written that earpod and ch...</td>\n",
              "    </tr>\n",
              "    <tr>\n",
              "      <th>1656</th>\n",
              "      <td>1</td>\n",
              "      <td>Hated it!</td>\n",
              "      <td>i you have extra money then Apple SE best for ...</td>\n",
              "    </tr>\n",
              "    <tr>\n",
              "      <th>1690</th>\n",
              "      <td>1</td>\n",
              "      <td>Hated it!</td>\n",
              "      <td>Battary problemREAD MORE</td>\n",
              "    </tr>\n",
              "    <tr>\n",
              "      <th>1738</th>\n",
              "      <td>1</td>\n",
              "      <td>Hated it!</td>\n",
              "      <td>Camera is great but phone is not worth. Batter...</td>\n",
              "    </tr>\n",
              "    <tr>\n",
              "      <th>2006</th>\n",
              "      <td>1</td>\n",
              "      <td>Hated it!</td>\n",
              "      <td>Varry bad ☹️READ MORE</td>\n",
              "    </tr>\n",
              "    <tr>\n",
              "      <th>3091</th>\n",
              "      <td>1</td>\n",
              "      <td>Hated it!</td>\n",
              "      <td>Waste of money no charging adaptor no earphone...</td>\n",
              "    </tr>\n",
              "    <tr>\n",
              "      <th>3246</th>\n",
              "      <td>1</td>\n",
              "      <td>Hated it!</td>\n",
              "      <td>Flipkart give worst product it is also not wat...</td>\n",
              "    </tr>\n",
              "    <tr>\n",
              "      <th>3425</th>\n",
              "      <td>1</td>\n",
              "      <td>Hated it!</td>\n",
              "      <td>Got it without charger and headphonesREAD MORE</td>\n",
              "    </tr>\n",
              "    <tr>\n",
              "      <th>3641</th>\n",
              "      <td>1</td>\n",
              "      <td>Hated it!</td>\n",
              "      <td>Worst ever deal.READ MORE</td>\n",
              "    </tr>\n",
              "    <tr>\n",
              "      <th>3646</th>\n",
              "      <td>1</td>\n",
              "      <td>Hated it!</td>\n",
              "      <td>Wrong charging cable. box was manipulated item...</td>\n",
              "    </tr>\n",
              "    <tr>\n",
              "      <th>3897</th>\n",
              "      <td>1</td>\n",
              "      <td>Hated it!</td>\n",
              "      <td>I recently purchased this phone with complete ...</td>\n",
              "    </tr>\n",
              "    <tr>\n",
              "      <th>3930</th>\n",
              "      <td>1</td>\n",
              "      <td>Hated it!</td>\n",
              "      <td>Have a damages in display edgeREAD MORE</td>\n",
              "    </tr>\n",
              "    <tr>\n",
              "      <th>3939</th>\n",
              "      <td>1</td>\n",
              "      <td>Hated it!</td>\n",
              "      <td>the product is not working after using 5 month...</td>\n",
              "    </tr>\n",
              "    <tr>\n",
              "      <th>4477</th>\n",
              "      <td>1</td>\n",
              "      <td>Hated it!</td>\n",
              "      <td>It's the worst phone don't buy it...my battery...</td>\n",
              "    </tr>\n",
              "    <tr>\n",
              "      <th>5376</th>\n",
              "      <td>1</td>\n",
              "      <td>Hated it!</td>\n",
              "      <td>Not so goodREAD MORE</td>\n",
              "    </tr>\n",
              "    <tr>\n",
              "      <th>5386</th>\n",
              "      <td>1</td>\n",
              "      <td>Hated it!</td>\n",
              "      <td>Very poor qualityREAD MORE</td>\n",
              "    </tr>\n",
              "    <tr>\n",
              "      <th>6852</th>\n",
              "      <td>1</td>\n",
              "      <td>Hated it!</td>\n",
              "      <td>Vary bad batteryREAD MORE</td>\n",
              "    </tr>\n",
              "    <tr>\n",
              "      <th>7257</th>\n",
              "      <td>1</td>\n",
              "      <td>Hated it!</td>\n",
              "      <td>Poor batteryREAD MORE</td>\n",
              "    </tr>\n",
              "    <tr>\n",
              "      <th>8516</th>\n",
              "      <td>1</td>\n",
              "      <td>Hated it!</td>\n",
              "      <td>I would never recommend to purchase anything f...</td>\n",
              "    </tr>\n",
              "    <tr>\n",
              "      <th>8755</th>\n",
              "      <td>1</td>\n",
              "      <td>Hated it!</td>\n",
              "      <td>Worst battery for this phone.Seems somthing fa...</td>\n",
              "    </tr>\n",
              "    <tr>\n",
              "      <th>9288</th>\n",
              "      <td>1</td>\n",
              "      <td>Hated it!</td>\n",
              "      <td>Sound is not coming loud on callREAD MORE</td>\n",
              "    </tr>\n",
              "  </tbody>\n",
              "</table>\n",
              "</div>"
            ],
            "text/plain": [
              "      Ratings    Comment                                            Reviews\n",
              "905         1  Hated it!  One of the worst mobile phones I have ever use...\n",
              "934         1  Hated it!  If any one of you want to exchange your phone ...\n",
              "941         1  Hated it!  While buying it was written that earpod and ch...\n",
              "1656        1  Hated it!  i you have extra money then Apple SE best for ...\n",
              "1690        1  Hated it!                           Battary problemREAD MORE\n",
              "1738        1  Hated it!  Camera is great but phone is not worth. Batter...\n",
              "2006        1  Hated it!                              Varry bad ☹️READ MORE\n",
              "3091        1  Hated it!  Waste of money no charging adaptor no earphone...\n",
              "3246        1  Hated it!  Flipkart give worst product it is also not wat...\n",
              "3425        1  Hated it!     Got it without charger and headphonesREAD MORE\n",
              "3641        1  Hated it!                          Worst ever deal.READ MORE\n",
              "3646        1  Hated it!  Wrong charging cable. box was manipulated item...\n",
              "3897        1  Hated it!  I recently purchased this phone with complete ...\n",
              "3930        1  Hated it!            Have a damages in display edgeREAD MORE\n",
              "3939        1  Hated it!  the product is not working after using 5 month...\n",
              "4477        1  Hated it!  It's the worst phone don't buy it...my battery...\n",
              "5376        1  Hated it!                               Not so goodREAD MORE\n",
              "5386        1  Hated it!                         Very poor qualityREAD MORE\n",
              "6852        1  Hated it!                          Vary bad batteryREAD MORE\n",
              "7257        1  Hated it!                              Poor batteryREAD MORE\n",
              "8516        1  Hated it!  I would never recommend to purchase anything f...\n",
              "8755        1  Hated it!  Worst battery for this phone.Seems somthing fa...\n",
              "9288        1  Hated it!          Sound is not coming loud on callREAD MORE"
            ]
          },
          "metadata": {},
          "execution_count": 11
        }
      ]
    },
    {
      "cell_type": "code",
      "metadata": {
        "id": "cXb4LEZAW_Ea"
      },
      "source": [
        "iphonert.drop(iphonert.loc[iphonert['Comment']=='Hated it!'].index, inplace=True)"
      ],
      "execution_count": 12,
      "outputs": []
    },
    {
      "cell_type": "code",
      "source": [
        "iphonert[iphonert['Comment']=='Hated it!']"
      ],
      "metadata": {
        "colab": {
          "base_uri": "https://localhost:8080/",
          "height": 49
        },
        "id": "6wqRPSlmwRXt",
        "outputId": "c04deb5a-05b6-4d10-e4c8-523f605f8ee7"
      },
      "execution_count": 13,
      "outputs": [
        {
          "output_type": "execute_result",
          "data": {
            "text/html": [
              "<div>\n",
              "<style scoped>\n",
              "    .dataframe tbody tr th:only-of-type {\n",
              "        vertical-align: middle;\n",
              "    }\n",
              "\n",
              "    .dataframe tbody tr th {\n",
              "        vertical-align: top;\n",
              "    }\n",
              "\n",
              "    .dataframe thead th {\n",
              "        text-align: right;\n",
              "    }\n",
              "</style>\n",
              "<table border=\"1\" class=\"dataframe\">\n",
              "  <thead>\n",
              "    <tr style=\"text-align: right;\">\n",
              "      <th></th>\n",
              "      <th>Ratings</th>\n",
              "      <th>Comment</th>\n",
              "      <th>Reviews</th>\n",
              "    </tr>\n",
              "  </thead>\n",
              "  <tbody>\n",
              "  </tbody>\n",
              "</table>\n",
              "</div>"
            ],
            "text/plain": [
              "Empty DataFrame\n",
              "Columns: [Ratings, Comment, Reviews]\n",
              "Index: []"
            ]
          },
          "metadata": {},
          "execution_count": 13
        }
      ]
    }
  ]
}