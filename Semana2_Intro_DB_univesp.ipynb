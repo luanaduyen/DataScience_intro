{
  "nbformat": 4,
  "nbformat_minor": 0,
  "metadata": {
    "colab": {
      "name": "Semana2_Intro-DB_univesp.ipynb",
      "provenance": [],
      "authorship_tag": "ABX9TyPFafdpY618C9eiUO06VsPw"
    },
    "kernelspec": {
      "name": "python3",
      "display_name": "Python 3"
    },
    "language_info": {
      "name": "python"
    }
  },
  "cells": [
    {
      "cell_type": "markdown",
      "metadata": {
        "id": "1_0NQUl216BO"
      },
      "source": [
        "#Semana 2 - Exercício de apoio"
      ]
    },
    {
      "cell_type": "markdown",
      "metadata": {
        "id": "MS0I9OFyy8K3"
      },
      "source": [
        "#### 1. Carregue as bibliotecas NumPy e Pandas. "
      ]
    },
    {
      "cell_type": "code",
      "metadata": {
        "id": "hgucYiOVzBzL"
      },
      "source": [
        "import numpy as np\n",
        "import pandas as pd"
      ],
      "execution_count": 6,
      "outputs": []
    },
    {
      "cell_type": "markdown",
      "metadata": {
        "id": "xG4pmI_2zsXy"
      },
      "source": [
        "#### 2. Crie um NDArray com os seguintes valores [1, 2.5, 7, -78, -0.9, 130, 25]."
      ]
    },
    {
      "cell_type": "code",
      "metadata": {
        "id": "1QwB3Jbdzvbc"
      },
      "source": [
        "lista = [1, 2.5, 7, -78, -0.9, 130, 25]"
      ],
      "execution_count": 2,
      "outputs": []
    },
    {
      "cell_type": "code",
      "metadata": {
        "id": "RPzoTrFR0BDm"
      },
      "source": [
        "dados1 = np.array(lista)"
      ],
      "execution_count": 3,
      "outputs": []
    },
    {
      "cell_type": "code",
      "metadata": {
        "id": "WY9wglPE0NXW",
        "colab": {
          "base_uri": "https://localhost:8080/"
        },
        "outputId": "404855b6-5803-4797-c0f8-e3ea527f512d"
      },
      "source": [
        "dados1"
      ],
      "execution_count": 4,
      "outputs": [
        {
          "output_type": "execute_result",
          "data": {
            "text/plain": [
              "array([  1. ,   2.5,   7. , -78. ,  -0.9, 130. ,  25. ])"
            ]
          },
          "metadata": {},
          "execution_count": 4
        }
      ]
    },
    {
      "cell_type": "markdown",
      "metadata": {
        "id": "ppqPs-fr0VOY"
      },
      "source": [
        "#### 3. Crie um NDArray com os valores de 0 a 10. "
      ]
    },
    {
      "cell_type": "code",
      "metadata": {
        "id": "z0QKkMXq0Y0U"
      },
      "source": [
        "dadosseq = np.arange(11)"
      ],
      "execution_count": 5,
      "outputs": []
    },
    {
      "cell_type": "code",
      "metadata": {
        "id": "JlNRCHS10ohE",
        "colab": {
          "base_uri": "https://localhost:8080/"
        },
        "outputId": "03bb8850-a0fd-4632-ca64-df7b148bdeb6"
      },
      "source": [
        "dadosseq"
      ],
      "execution_count": 6,
      "outputs": [
        {
          "output_type": "execute_result",
          "data": {
            "text/plain": [
              "array([ 0,  1,  2,  3,  4,  5,  6,  7,  8,  9, 10])"
            ]
          },
          "metadata": {},
          "execution_count": 6
        }
      ]
    },
    {
      "cell_type": "markdown",
      "metadata": {
        "id": "U42bHDCV06Wv"
      },
      "source": [
        "#### 4. Crie um NDArray de dimensão 2x5 com valores 1."
      ]
    },
    {
      "cell_type": "code",
      "metadata": {
        "id": "cgJ_s7gS082g"
      },
      "source": [
        "dadosum = np.ones((2,5))"
      ],
      "execution_count": 7,
      "outputs": []
    },
    {
      "cell_type": "code",
      "metadata": {
        "id": "marvDSxl1MLC",
        "colab": {
          "base_uri": "https://localhost:8080/"
        },
        "outputId": "5f6100db-6069-4e46-e859-9fa804bfb9eb"
      },
      "source": [
        "dadosum"
      ],
      "execution_count": 8,
      "outputs": [
        {
          "output_type": "execute_result",
          "data": {
            "text/plain": [
              "array([[1., 1., 1., 1., 1.],\n",
              "       [1., 1., 1., 1., 1.]])"
            ]
          },
          "metadata": {},
          "execution_count": 8
        }
      ]
    },
    {
      "cell_type": "markdown",
      "metadata": {
        "id": "fYL_Qfoh1PEE"
      },
      "source": [
        "#### 5. Crie um NDArray com valores de 1 a 100, com intervalos de 3 em 3."
      ]
    },
    {
      "cell_type": "code",
      "metadata": {
        "id": "tZx9Q0N91TDN"
      },
      "source": [
        "dados3em3 = np.arange(1,101,3)"
      ],
      "execution_count": 9,
      "outputs": []
    },
    {
      "cell_type": "code",
      "metadata": {
        "id": "ltxxyqxq1nTi",
        "colab": {
          "base_uri": "https://localhost:8080/"
        },
        "outputId": "94d43c45-eaaa-489c-d067-a0dcea28743f"
      },
      "source": [
        "dados3em3"
      ],
      "execution_count": 10,
      "outputs": [
        {
          "output_type": "execute_result",
          "data": {
            "text/plain": [
              "array([  1,   4,   7,  10,  13,  16,  19,  22,  25,  28,  31,  34,  37,\n",
              "        40,  43,  46,  49,  52,  55,  58,  61,  64,  67,  70,  73,  76,\n",
              "        79,  82,  85,  88,  91,  94,  97, 100])"
            ]
          },
          "metadata": {},
          "execution_count": 10
        }
      ]
    },
    {
      "cell_type": "markdown",
      "metadata": {
        "id": "eXmMiF3j1rqh"
      },
      "source": [
        "#### 6. Mostre as raízes quadradas dos valores do NDArray criado no exercício 5."
      ]
    },
    {
      "cell_type": "code",
      "metadata": {
        "id": "jwVApRZ22lVN",
        "colab": {
          "base_uri": "https://localhost:8080/"
        },
        "outputId": "c0b96c88-f2da-4737-d09a-251eb76deaaf"
      },
      "source": [
        "np.sqrt(dados3em3)"
      ],
      "execution_count": 11,
      "outputs": [
        {
          "output_type": "execute_result",
          "data": {
            "text/plain": [
              "array([ 1.        ,  2.        ,  2.64575131,  3.16227766,  3.60555128,\n",
              "        4.        ,  4.35889894,  4.69041576,  5.        ,  5.29150262,\n",
              "        5.56776436,  5.83095189,  6.08276253,  6.32455532,  6.55743852,\n",
              "        6.78232998,  7.        ,  7.21110255,  7.41619849,  7.61577311,\n",
              "        7.81024968,  8.        ,  8.18535277,  8.36660027,  8.54400375,\n",
              "        8.71779789,  8.88819442,  9.05538514,  9.21954446,  9.38083152,\n",
              "        9.53939201,  9.69535971,  9.8488578 , 10.        ])"
            ]
          },
          "metadata": {},
          "execution_count": 11
        }
      ]
    },
    {
      "cell_type": "markdown",
      "metadata": {
        "id": "k2JPa2sj3fSZ"
      },
      "source": [
        "#### 7. Altere a décima posição do NDArray criado no exercício 5 com o dobro do seu valor."
      ]
    },
    {
      "cell_type": "code",
      "metadata": {
        "id": "5pwC5yTT5LiL"
      },
      "source": [
        "dados3em3[9] = dados3em3[9]*2 "
      ],
      "execution_count": 12,
      "outputs": []
    },
    {
      "cell_type": "code",
      "metadata": {
        "id": "YblVCWYy5S0c",
        "colab": {
          "base_uri": "https://localhost:8080/"
        },
        "outputId": "331fe3df-b73a-4af1-bfe0-4304b067b849"
      },
      "source": [
        "dados3em3"
      ],
      "execution_count": 13,
      "outputs": [
        {
          "output_type": "execute_result",
          "data": {
            "text/plain": [
              "array([  1,   4,   7,  10,  13,  16,  19,  22,  25,  56,  31,  34,  37,\n",
              "        40,  43,  46,  49,  52,  55,  58,  61,  64,  67,  70,  73,  76,\n",
              "        79,  82,  85,  88,  91,  94,  97, 100])"
            ]
          },
          "metadata": {},
          "execution_count": 13
        }
      ]
    },
    {
      "cell_type": "markdown",
      "metadata": {
        "id": "j-vQnYkN5aVk"
      },
      "source": [
        "#### 8. Execute o comando para criar um DataFrame com os dados disponíveis no notebook. "
      ]
    },
    {
      "cell_type": "code",
      "metadata": {
        "id": "fgkSoH2sVKSb"
      },
      "source": [
        "dados={'Empresa':['Microsoft', 'Google','Univesp','NVData Analytics','Power Bi Experience','USP'], 'Qtde Func':[1000, 1500,500, 100,100,499], 'Site':['https://www.microsoft.com/pt-br','https://www.google.com/','https://univesp.br/','https://www.nvdata.com.br/','https://powerbiexperience.com/pt/','https://www.usp.br/'],'Instagram':['@microsoft','@google','@univespoficial','@nv_data','@leokarpa','@usp.oficial'],'Criação':[1975,1998,2012,2019,2016,1934], 'País':['EUA','EUA','Brasil','Brasil','Brasil','Brasil']}"
      ],
      "execution_count": 3,
      "outputs": []
    },
    {
      "cell_type": "code",
      "metadata": {
        "id": "js6zTAlP7xWm"
      },
      "source": [
        "dfemp = pd.DataFrame(dados)"
      ],
      "execution_count": 7,
      "outputs": []
    },
    {
      "cell_type": "code",
      "metadata": {
        "id": "kHErdEpr7_ou",
        "colab": {
          "base_uri": "https://localhost:8080/",
          "height": 238
        },
        "outputId": "34da131f-4bb2-4889-c6dc-293b29462883"
      },
      "source": [
        "dfemp"
      ],
      "execution_count": 8,
      "outputs": [
        {
          "output_type": "execute_result",
          "data": {
            "text/html": [
              "<div>\n",
              "<style scoped>\n",
              "    .dataframe tbody tr th:only-of-type {\n",
              "        vertical-align: middle;\n",
              "    }\n",
              "\n",
              "    .dataframe tbody tr th {\n",
              "        vertical-align: top;\n",
              "    }\n",
              "\n",
              "    .dataframe thead th {\n",
              "        text-align: right;\n",
              "    }\n",
              "</style>\n",
              "<table border=\"1\" class=\"dataframe\">\n",
              "  <thead>\n",
              "    <tr style=\"text-align: right;\">\n",
              "      <th></th>\n",
              "      <th>Empresa</th>\n",
              "      <th>Qtde Func</th>\n",
              "      <th>Site</th>\n",
              "      <th>Instagram</th>\n",
              "      <th>Criação</th>\n",
              "      <th>País</th>\n",
              "    </tr>\n",
              "  </thead>\n",
              "  <tbody>\n",
              "    <tr>\n",
              "      <th>0</th>\n",
              "      <td>Microsoft</td>\n",
              "      <td>1000</td>\n",
              "      <td>https://www.microsoft.com/pt-br</td>\n",
              "      <td>@microsoft</td>\n",
              "      <td>1975</td>\n",
              "      <td>EUA</td>\n",
              "    </tr>\n",
              "    <tr>\n",
              "      <th>1</th>\n",
              "      <td>Google</td>\n",
              "      <td>1500</td>\n",
              "      <td>https://www.google.com/</td>\n",
              "      <td>@google</td>\n",
              "      <td>1998</td>\n",
              "      <td>EUA</td>\n",
              "    </tr>\n",
              "    <tr>\n",
              "      <th>2</th>\n",
              "      <td>Univesp</td>\n",
              "      <td>500</td>\n",
              "      <td>https://univesp.br/</td>\n",
              "      <td>@univespoficial</td>\n",
              "      <td>2012</td>\n",
              "      <td>Brasil</td>\n",
              "    </tr>\n",
              "    <tr>\n",
              "      <th>3</th>\n",
              "      <td>NVData Analytics</td>\n",
              "      <td>100</td>\n",
              "      <td>https://www.nvdata.com.br/</td>\n",
              "      <td>@nv_data</td>\n",
              "      <td>2019</td>\n",
              "      <td>Brasil</td>\n",
              "    </tr>\n",
              "    <tr>\n",
              "      <th>4</th>\n",
              "      <td>Power Bi Experience</td>\n",
              "      <td>100</td>\n",
              "      <td>https://powerbiexperience.com/pt/</td>\n",
              "      <td>@leokarpa</td>\n",
              "      <td>2016</td>\n",
              "      <td>Brasil</td>\n",
              "    </tr>\n",
              "    <tr>\n",
              "      <th>5</th>\n",
              "      <td>USP</td>\n",
              "      <td>499</td>\n",
              "      <td>https://www.usp.br/</td>\n",
              "      <td>@usp.oficial</td>\n",
              "      <td>1934</td>\n",
              "      <td>Brasil</td>\n",
              "    </tr>\n",
              "  </tbody>\n",
              "</table>\n",
              "</div>"
            ],
            "text/plain": [
              "               Empresa  Qtde Func  ... Criação    País\n",
              "0            Microsoft       1000  ...    1975     EUA\n",
              "1               Google       1500  ...    1998     EUA\n",
              "2              Univesp        500  ...    2012  Brasil\n",
              "3     NVData Analytics        100  ...    2019  Brasil\n",
              "4  Power Bi Experience        100  ...    2016  Brasil\n",
              "5                  USP        499  ...    1934  Brasil\n",
              "\n",
              "[6 rows x 6 columns]"
            ]
          },
          "metadata": {},
          "execution_count": 8
        }
      ]
    },
    {
      "cell_type": "markdown",
      "metadata": {
        "id": "sdGMFraNmAQ2"
      },
      "source": [
        "#### 9. Execute um comando que seja possível identificar qual a média da quantidade de funcionários que as empresas listadas têm. Informe também a soma dos funcionários que as empresas têm. "
      ]
    },
    {
      "cell_type": "code",
      "metadata": {
        "colab": {
          "base_uri": "https://localhost:8080/",
          "height": 394
        },
        "id": "fg2zSJiEmId2",
        "outputId": "ad182287-b50d-49a2-eec2-bd75b0542604"
      },
      "source": [
        "dfemp.describe(include='all')"
      ],
      "execution_count": 12,
      "outputs": [
        {
          "output_type": "execute_result",
          "data": {
            "text/html": [
              "<div>\n",
              "<style scoped>\n",
              "    .dataframe tbody tr th:only-of-type {\n",
              "        vertical-align: middle;\n",
              "    }\n",
              "\n",
              "    .dataframe tbody tr th {\n",
              "        vertical-align: top;\n",
              "    }\n",
              "\n",
              "    .dataframe thead th {\n",
              "        text-align: right;\n",
              "    }\n",
              "</style>\n",
              "<table border=\"1\" class=\"dataframe\">\n",
              "  <thead>\n",
              "    <tr style=\"text-align: right;\">\n",
              "      <th></th>\n",
              "      <th>Empresa</th>\n",
              "      <th>Qtde Func</th>\n",
              "      <th>Site</th>\n",
              "      <th>Instagram</th>\n",
              "      <th>Criação</th>\n",
              "      <th>País</th>\n",
              "    </tr>\n",
              "  </thead>\n",
              "  <tbody>\n",
              "    <tr>\n",
              "      <th>count</th>\n",
              "      <td>6</td>\n",
              "      <td>6.000000</td>\n",
              "      <td>6</td>\n",
              "      <td>6</td>\n",
              "      <td>6.000000</td>\n",
              "      <td>6</td>\n",
              "    </tr>\n",
              "    <tr>\n",
              "      <th>unique</th>\n",
              "      <td>6</td>\n",
              "      <td>NaN</td>\n",
              "      <td>6</td>\n",
              "      <td>6</td>\n",
              "      <td>NaN</td>\n",
              "      <td>2</td>\n",
              "    </tr>\n",
              "    <tr>\n",
              "      <th>top</th>\n",
              "      <td>Power Bi Experience</td>\n",
              "      <td>NaN</td>\n",
              "      <td>https://www.microsoft.com/pt-br</td>\n",
              "      <td>@google</td>\n",
              "      <td>NaN</td>\n",
              "      <td>Brasil</td>\n",
              "    </tr>\n",
              "    <tr>\n",
              "      <th>freq</th>\n",
              "      <td>1</td>\n",
              "      <td>NaN</td>\n",
              "      <td>1</td>\n",
              "      <td>1</td>\n",
              "      <td>NaN</td>\n",
              "      <td>4</td>\n",
              "    </tr>\n",
              "    <tr>\n",
              "      <th>mean</th>\n",
              "      <td>NaN</td>\n",
              "      <td>616.500000</td>\n",
              "      <td>NaN</td>\n",
              "      <td>NaN</td>\n",
              "      <td>1992.333333</td>\n",
              "      <td>NaN</td>\n",
              "    </tr>\n",
              "    <tr>\n",
              "      <th>std</th>\n",
              "      <td>NaN</td>\n",
              "      <td>545.631286</td>\n",
              "      <td>NaN</td>\n",
              "      <td>NaN</td>\n",
              "      <td>32.843061</td>\n",
              "      <td>NaN</td>\n",
              "    </tr>\n",
              "    <tr>\n",
              "      <th>min</th>\n",
              "      <td>NaN</td>\n",
              "      <td>100.000000</td>\n",
              "      <td>NaN</td>\n",
              "      <td>NaN</td>\n",
              "      <td>1934.000000</td>\n",
              "      <td>NaN</td>\n",
              "    </tr>\n",
              "    <tr>\n",
              "      <th>25%</th>\n",
              "      <td>NaN</td>\n",
              "      <td>199.750000</td>\n",
              "      <td>NaN</td>\n",
              "      <td>NaN</td>\n",
              "      <td>1980.750000</td>\n",
              "      <td>NaN</td>\n",
              "    </tr>\n",
              "    <tr>\n",
              "      <th>50%</th>\n",
              "      <td>NaN</td>\n",
              "      <td>499.500000</td>\n",
              "      <td>NaN</td>\n",
              "      <td>NaN</td>\n",
              "      <td>2005.000000</td>\n",
              "      <td>NaN</td>\n",
              "    </tr>\n",
              "    <tr>\n",
              "      <th>75%</th>\n",
              "      <td>NaN</td>\n",
              "      <td>875.000000</td>\n",
              "      <td>NaN</td>\n",
              "      <td>NaN</td>\n",
              "      <td>2015.000000</td>\n",
              "      <td>NaN</td>\n",
              "    </tr>\n",
              "    <tr>\n",
              "      <th>max</th>\n",
              "      <td>NaN</td>\n",
              "      <td>1500.000000</td>\n",
              "      <td>NaN</td>\n",
              "      <td>NaN</td>\n",
              "      <td>2019.000000</td>\n",
              "      <td>NaN</td>\n",
              "    </tr>\n",
              "  </tbody>\n",
              "</table>\n",
              "</div>"
            ],
            "text/plain": [
              "                    Empresa    Qtde Func  ...      Criação    País\n",
              "count                     6     6.000000  ...     6.000000       6\n",
              "unique                    6          NaN  ...          NaN       2\n",
              "top     Power Bi Experience          NaN  ...          NaN  Brasil\n",
              "freq                      1          NaN  ...          NaN       4\n",
              "mean                    NaN   616.500000  ...  1992.333333     NaN\n",
              "std                     NaN   545.631286  ...    32.843061     NaN\n",
              "min                     NaN   100.000000  ...  1934.000000     NaN\n",
              "25%                     NaN   199.750000  ...  1980.750000     NaN\n",
              "50%                     NaN   499.500000  ...  2005.000000     NaN\n",
              "75%                     NaN   875.000000  ...  2015.000000     NaN\n",
              "max                     NaN  1500.000000  ...  2019.000000     NaN\n",
              "\n",
              "[11 rows x 6 columns]"
            ]
          },
          "metadata": {},
          "execution_count": 12
        }
      ]
    },
    {
      "cell_type": "code",
      "metadata": {
        "id": "hBTn05c3v7np"
      },
      "source": [
        "somafunc = dfemp['Qtde Func'].sum()"
      ],
      "execution_count": 26,
      "outputs": []
    },
    {
      "cell_type": "code",
      "metadata": {
        "colab": {
          "base_uri": "https://localhost:8080/"
        },
        "id": "18YF-7XKwG2m",
        "outputId": "7eeac690-6904-40bb-d0f0-7018b6b6dcaa"
      },
      "source": [
        "somafunc"
      ],
      "execution_count": 27,
      "outputs": [
        {
          "output_type": "execute_result",
          "data": {
            "text/plain": [
              "3699"
            ]
          },
          "metadata": {},
          "execution_count": 27
        }
      ]
    },
    {
      "cell_type": "markdown",
      "metadata": {
        "id": "X9XmKzDDwQ4K"
      },
      "source": [
        "#### 10. Mostre as primeiras 3 linhas do DataFrame. "
      ]
    },
    {
      "cell_type": "code",
      "metadata": {
        "colab": {
          "base_uri": "https://localhost:8080/",
          "height": 143
        },
        "id": "yxHACP9SwbMa",
        "outputId": "550ee78f-0bea-4bc4-b887-f347ab9f09f5"
      },
      "source": [
        "dfemp.head(3)"
      ],
      "execution_count": 28,
      "outputs": [
        {
          "output_type": "execute_result",
          "data": {
            "text/html": [
              "<div>\n",
              "<style scoped>\n",
              "    .dataframe tbody tr th:only-of-type {\n",
              "        vertical-align: middle;\n",
              "    }\n",
              "\n",
              "    .dataframe tbody tr th {\n",
              "        vertical-align: top;\n",
              "    }\n",
              "\n",
              "    .dataframe thead th {\n",
              "        text-align: right;\n",
              "    }\n",
              "</style>\n",
              "<table border=\"1\" class=\"dataframe\">\n",
              "  <thead>\n",
              "    <tr style=\"text-align: right;\">\n",
              "      <th></th>\n",
              "      <th>Empresa</th>\n",
              "      <th>Qtde Func</th>\n",
              "      <th>Site</th>\n",
              "      <th>Instagram</th>\n",
              "      <th>Criação</th>\n",
              "      <th>País</th>\n",
              "    </tr>\n",
              "  </thead>\n",
              "  <tbody>\n",
              "    <tr>\n",
              "      <th>0</th>\n",
              "      <td>Microsoft</td>\n",
              "      <td>1000</td>\n",
              "      <td>https://www.microsoft.com/pt-br</td>\n",
              "      <td>@microsoft</td>\n",
              "      <td>1975</td>\n",
              "      <td>EUA</td>\n",
              "    </tr>\n",
              "    <tr>\n",
              "      <th>1</th>\n",
              "      <td>Google</td>\n",
              "      <td>1500</td>\n",
              "      <td>https://www.google.com/</td>\n",
              "      <td>@google</td>\n",
              "      <td>1998</td>\n",
              "      <td>EUA</td>\n",
              "    </tr>\n",
              "    <tr>\n",
              "      <th>2</th>\n",
              "      <td>Univesp</td>\n",
              "      <td>500</td>\n",
              "      <td>https://univesp.br/</td>\n",
              "      <td>@univespoficial</td>\n",
              "      <td>2012</td>\n",
              "      <td>Brasil</td>\n",
              "    </tr>\n",
              "  </tbody>\n",
              "</table>\n",
              "</div>"
            ],
            "text/plain": [
              "     Empresa  Qtde Func  ... Criação    País\n",
              "0  Microsoft       1000  ...    1975     EUA\n",
              "1     Google       1500  ...    1998     EUA\n",
              "2    Univesp        500  ...    2012  Brasil\n",
              "\n",
              "[3 rows x 6 columns]"
            ]
          },
          "metadata": {},
          "execution_count": 28
        }
      ]
    },
    {
      "cell_type": "markdown",
      "metadata": {
        "id": "IDQhqTqsw_L-"
      },
      "source": [
        "#### 11. Mostre as últimas 3 linhas do DataFrame."
      ]
    },
    {
      "cell_type": "code",
      "metadata": {
        "colab": {
          "base_uri": "https://localhost:8080/",
          "height": 143
        },
        "id": "PCHOzKSdxDFj",
        "outputId": "951c2c92-d40e-437d-b2a6-3b82600558bc"
      },
      "source": [
        "dfemp.tail(3)"
      ],
      "execution_count": 29,
      "outputs": [
        {
          "output_type": "execute_result",
          "data": {
            "text/html": [
              "<div>\n",
              "<style scoped>\n",
              "    .dataframe tbody tr th:only-of-type {\n",
              "        vertical-align: middle;\n",
              "    }\n",
              "\n",
              "    .dataframe tbody tr th {\n",
              "        vertical-align: top;\n",
              "    }\n",
              "\n",
              "    .dataframe thead th {\n",
              "        text-align: right;\n",
              "    }\n",
              "</style>\n",
              "<table border=\"1\" class=\"dataframe\">\n",
              "  <thead>\n",
              "    <tr style=\"text-align: right;\">\n",
              "      <th></th>\n",
              "      <th>Empresa</th>\n",
              "      <th>Qtde Func</th>\n",
              "      <th>Site</th>\n",
              "      <th>Instagram</th>\n",
              "      <th>Criação</th>\n",
              "      <th>País</th>\n",
              "    </tr>\n",
              "  </thead>\n",
              "  <tbody>\n",
              "    <tr>\n",
              "      <th>3</th>\n",
              "      <td>NVData Analytics</td>\n",
              "      <td>100</td>\n",
              "      <td>https://www.nvdata.com.br/</td>\n",
              "      <td>@nv_data</td>\n",
              "      <td>2019</td>\n",
              "      <td>Brasil</td>\n",
              "    </tr>\n",
              "    <tr>\n",
              "      <th>4</th>\n",
              "      <td>Power Bi Experience</td>\n",
              "      <td>100</td>\n",
              "      <td>https://powerbiexperience.com/pt/</td>\n",
              "      <td>@leokarpa</td>\n",
              "      <td>2016</td>\n",
              "      <td>Brasil</td>\n",
              "    </tr>\n",
              "    <tr>\n",
              "      <th>5</th>\n",
              "      <td>USP</td>\n",
              "      <td>499</td>\n",
              "      <td>https://www.usp.br/</td>\n",
              "      <td>@usp.oficial</td>\n",
              "      <td>1934</td>\n",
              "      <td>Brasil</td>\n",
              "    </tr>\n",
              "  </tbody>\n",
              "</table>\n",
              "</div>"
            ],
            "text/plain": [
              "               Empresa  Qtde Func  ... Criação    País\n",
              "3     NVData Analytics        100  ...    2019  Brasil\n",
              "4  Power Bi Experience        100  ...    2016  Brasil\n",
              "5                  USP        499  ...    1934  Brasil\n",
              "\n",
              "[3 rows x 6 columns]"
            ]
          },
          "metadata": {},
          "execution_count": 29
        }
      ]
    },
    {
      "cell_type": "markdown",
      "metadata": {
        "id": "8WtVDCUmxHz7"
      },
      "source": [
        "#### 12. Liste apenas as linhas em que as empresas foram criadas nos últimos 10 anos. Informe a quantidade de registros. "
      ]
    },
    {
      "cell_type": "code",
      "metadata": {
        "id": "Dqo85aLrxOoK"
      },
      "source": [
        "emp2010 = dfemp[dfemp[\"Criação\"] > 2011]"
      ],
      "execution_count": 39,
      "outputs": []
    },
    {
      "cell_type": "code",
      "metadata": {
        "colab": {
          "base_uri": "https://localhost:8080/",
          "height": 143
        },
        "id": "Xg_3J2Kp2OHZ",
        "outputId": "6f5529e4-bffa-44b8-dcb7-91cd116c51e2"
      },
      "source": [
        "emp2010"
      ],
      "execution_count": 38,
      "outputs": [
        {
          "output_type": "execute_result",
          "data": {
            "text/html": [
              "<div>\n",
              "<style scoped>\n",
              "    .dataframe tbody tr th:only-of-type {\n",
              "        vertical-align: middle;\n",
              "    }\n",
              "\n",
              "    .dataframe tbody tr th {\n",
              "        vertical-align: top;\n",
              "    }\n",
              "\n",
              "    .dataframe thead th {\n",
              "        text-align: right;\n",
              "    }\n",
              "</style>\n",
              "<table border=\"1\" class=\"dataframe\">\n",
              "  <thead>\n",
              "    <tr style=\"text-align: right;\">\n",
              "      <th></th>\n",
              "      <th>Empresa</th>\n",
              "      <th>Qtde Func</th>\n",
              "      <th>Site</th>\n",
              "      <th>Instagram</th>\n",
              "      <th>Criação</th>\n",
              "      <th>País</th>\n",
              "    </tr>\n",
              "  </thead>\n",
              "  <tbody>\n",
              "    <tr>\n",
              "      <th>2</th>\n",
              "      <td>Univesp</td>\n",
              "      <td>500</td>\n",
              "      <td>https://univesp.br/</td>\n",
              "      <td>@univespoficial</td>\n",
              "      <td>2012</td>\n",
              "      <td>Brasil</td>\n",
              "    </tr>\n",
              "    <tr>\n",
              "      <th>3</th>\n",
              "      <td>NVData Analytics</td>\n",
              "      <td>100</td>\n",
              "      <td>https://www.nvdata.com.br/</td>\n",
              "      <td>@nv_data</td>\n",
              "      <td>2019</td>\n",
              "      <td>Brasil</td>\n",
              "    </tr>\n",
              "    <tr>\n",
              "      <th>4</th>\n",
              "      <td>Power Bi Experience</td>\n",
              "      <td>100</td>\n",
              "      <td>https://powerbiexperience.com/pt/</td>\n",
              "      <td>@leokarpa</td>\n",
              "      <td>2016</td>\n",
              "      <td>Brasil</td>\n",
              "    </tr>\n",
              "  </tbody>\n",
              "</table>\n",
              "</div>"
            ],
            "text/plain": [
              "               Empresa  Qtde Func  ... Criação    País\n",
              "2              Univesp        500  ...    2012  Brasil\n",
              "3     NVData Analytics        100  ...    2019  Brasil\n",
              "4  Power Bi Experience        100  ...    2016  Brasil\n",
              "\n",
              "[3 rows x 6 columns]"
            ]
          },
          "metadata": {},
          "execution_count": 38
        }
      ]
    },
    {
      "cell_type": "code",
      "metadata": {
        "id": "UQbVUY0J3LTn"
      },
      "source": [
        "index = emp2010.index"
      ],
      "execution_count": 41,
      "outputs": []
    },
    {
      "cell_type": "code",
      "metadata": {
        "id": "-jqUj2Dl3lAA"
      },
      "source": [
        "qtdreg = len(index)"
      ],
      "execution_count": 43,
      "outputs": []
    },
    {
      "cell_type": "code",
      "metadata": {
        "colab": {
          "base_uri": "https://localhost:8080/"
        },
        "id": "oJwIRrv130_H",
        "outputId": "99177e08-eb61-480f-c0aa-d996b851b040"
      },
      "source": [
        "qtdreg"
      ],
      "execution_count": 44,
      "outputs": [
        {
          "output_type": "execute_result",
          "data": {
            "text/plain": [
              "3"
            ]
          },
          "metadata": {},
          "execution_count": 44
        }
      ]
    },
    {
      "cell_type": "markdown",
      "metadata": {
        "id": "UjNe6a0V4BDc"
      },
      "source": [
        "#### 13. Vamos imaginar que em todas as empresas exista 1 chefe para cada 23 funcionários. Crie uma coluna que mostre a quantidade de chefes que cada empresa teria, depois informe quantos chefes teríamos ao todo. (os valores não precisam ser números inteiros, é apenas uma estimativa). "
      ]
    },
    {
      "cell_type": "code",
      "metadata": {
        "id": "ivVunahw4MtV"
      },
      "source": [
        "dfemp.insert(2, 'Qtde Chefes', dfemp['Qtde Func']/23, True)"
      ],
      "execution_count": 45,
      "outputs": []
    },
    {
      "cell_type": "code",
      "metadata": {
        "colab": {
          "base_uri": "https://localhost:8080/",
          "height": 238
        },
        "id": "IpB0PCWA7-Fs",
        "outputId": "124b14c7-dca0-46cd-812e-44677427c78e"
      },
      "source": [
        "dfemp"
      ],
      "execution_count": 46,
      "outputs": [
        {
          "output_type": "execute_result",
          "data": {
            "text/html": [
              "<div>\n",
              "<style scoped>\n",
              "    .dataframe tbody tr th:only-of-type {\n",
              "        vertical-align: middle;\n",
              "    }\n",
              "\n",
              "    .dataframe tbody tr th {\n",
              "        vertical-align: top;\n",
              "    }\n",
              "\n",
              "    .dataframe thead th {\n",
              "        text-align: right;\n",
              "    }\n",
              "</style>\n",
              "<table border=\"1\" class=\"dataframe\">\n",
              "  <thead>\n",
              "    <tr style=\"text-align: right;\">\n",
              "      <th></th>\n",
              "      <th>Empresa</th>\n",
              "      <th>Qtde Func</th>\n",
              "      <th>Qtde Chefes</th>\n",
              "      <th>Site</th>\n",
              "      <th>Instagram</th>\n",
              "      <th>Criação</th>\n",
              "      <th>País</th>\n",
              "    </tr>\n",
              "  </thead>\n",
              "  <tbody>\n",
              "    <tr>\n",
              "      <th>0</th>\n",
              "      <td>Microsoft</td>\n",
              "      <td>1000</td>\n",
              "      <td>43.478261</td>\n",
              "      <td>https://www.microsoft.com/pt-br</td>\n",
              "      <td>@microsoft</td>\n",
              "      <td>1975</td>\n",
              "      <td>EUA</td>\n",
              "    </tr>\n",
              "    <tr>\n",
              "      <th>1</th>\n",
              "      <td>Google</td>\n",
              "      <td>1500</td>\n",
              "      <td>65.217391</td>\n",
              "      <td>https://www.google.com/</td>\n",
              "      <td>@google</td>\n",
              "      <td>1998</td>\n",
              "      <td>EUA</td>\n",
              "    </tr>\n",
              "    <tr>\n",
              "      <th>2</th>\n",
              "      <td>Univesp</td>\n",
              "      <td>500</td>\n",
              "      <td>21.739130</td>\n",
              "      <td>https://univesp.br/</td>\n",
              "      <td>@univespoficial</td>\n",
              "      <td>2012</td>\n",
              "      <td>Brasil</td>\n",
              "    </tr>\n",
              "    <tr>\n",
              "      <th>3</th>\n",
              "      <td>NVData Analytics</td>\n",
              "      <td>100</td>\n",
              "      <td>4.347826</td>\n",
              "      <td>https://www.nvdata.com.br/</td>\n",
              "      <td>@nv_data</td>\n",
              "      <td>2019</td>\n",
              "      <td>Brasil</td>\n",
              "    </tr>\n",
              "    <tr>\n",
              "      <th>4</th>\n",
              "      <td>Power Bi Experience</td>\n",
              "      <td>100</td>\n",
              "      <td>4.347826</td>\n",
              "      <td>https://powerbiexperience.com/pt/</td>\n",
              "      <td>@leokarpa</td>\n",
              "      <td>2016</td>\n",
              "      <td>Brasil</td>\n",
              "    </tr>\n",
              "    <tr>\n",
              "      <th>5</th>\n",
              "      <td>USP</td>\n",
              "      <td>499</td>\n",
              "      <td>21.695652</td>\n",
              "      <td>https://www.usp.br/</td>\n",
              "      <td>@usp.oficial</td>\n",
              "      <td>1934</td>\n",
              "      <td>Brasil</td>\n",
              "    </tr>\n",
              "  </tbody>\n",
              "</table>\n",
              "</div>"
            ],
            "text/plain": [
              "               Empresa  Qtde Func  ...  Criação    País\n",
              "0            Microsoft       1000  ...     1975     EUA\n",
              "1               Google       1500  ...     1998     EUA\n",
              "2              Univesp        500  ...     2012  Brasil\n",
              "3     NVData Analytics        100  ...     2019  Brasil\n",
              "4  Power Bi Experience        100  ...     2016  Brasil\n",
              "5                  USP        499  ...     1934  Brasil\n",
              "\n",
              "[6 rows x 7 columns]"
            ]
          },
          "metadata": {},
          "execution_count": 46
        }
      ]
    }
  ]
}